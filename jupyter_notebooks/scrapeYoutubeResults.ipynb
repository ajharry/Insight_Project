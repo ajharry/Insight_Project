{
 "cells": [
  {
   "cell_type": "code",
   "execution_count": 1,
   "metadata": {
    "collapsed": true
   },
   "outputs": [],
   "source": [
    "from bs4 import BeautifulSoup\n",
    "import urllib.request\n",
    "import numpy as np\n",
    "import pandas as pd\n",
    "import re\n",
    "import pickle\n",
    "\n",
    "import os\n",
    "\n",
    "def download_subs(video_url, lang=\"en\"):\n",
    "    cmd = [\n",
    "        \"youtube-dl\",\n",
    "        \"--skip-download\",\n",
    "        \"--write-auto-sub\",\n",
    "        \"--sub-format vtt\",\n",
    "        \"--sub-lang\",\n",
    "        lang,\n",
    "        video_url\n",
    "    ]\n",
    "\n",
    "    os.system(\" \".join(cmd))\n",
    "    \n",
    "    \n",
    "def SearchVid(search, pages):\n",
    "    video_id =[]\n",
    "    for page in range(1,pages+1):\n",
    "        if(page % 5 == 0):\n",
    "            print(page)\n",
    "        responce = urllib.request.urlopen('https://www.youtube.com/results?search_query='+search+'&sp=CAMSAhAB&page='+str(page))\n",
    "\n",
    "        soup = BeautifulSoup(responce)    \n",
    "        divs = soup.find_all(\"div\", { \"class\" : \"yt-lockup-content\"})\n",
    "\n",
    "\n",
    "        for i in divs:\n",
    "            href= i.find('a', href=True)\n",
    "            video_id.append(href['href'])\n",
    "            \n",
    "    return video_id\n",
    "\n",
    "def srt_time_to_seconds(time):\n",
    "    split_time=time.split(',')\n",
    "    major, minor = (split_time[0].split(':'), split_time[1])\n",
    "    return int(major[0])*1440 + int(major[1])*60 + int(major[2]) + float(minor)/1000\n",
    "\n",
    "def srt_to_dict(srtText):\n",
    "    subs=[]\n",
    "    for s in re.sub('\\r\\n', '\\n', srtText).split('\\n\\n'):\n",
    "        st = s.split('\\n')\n",
    "        if len(st)>=3:\n",
    "            split = st[1].split(' --> ')\n",
    "            subs.append({'start': srt_time_to_seconds(split[0].strip()),\n",
    "                         'end': srt_time_to_seconds(split[1].strip()),\n",
    "                         'text': '<br />'.join(j for j in st[2:len(st)])\n",
    "                        })\n",
    "    return subs"
   ]
  },
  {
   "cell_type": "markdown",
   "metadata": {},
   "source": [
    "# Get list of videos that are not sponsored"
   ]
  },
  {
   "cell_type": "code",
   "execution_count": 2,
   "metadata": {
    "scrolled": false
   },
   "outputs": [
    {
     "name": "stderr",
     "output_type": "stream",
     "text": [
      "/anaconda3/lib/python3.6/site-packages/bs4/__init__.py:181: UserWarning: No parser was explicitly specified, so I'm using the best available HTML parser for this system (\"lxml\"). This usually isn't a problem, but if you run this code on another system, or in a different virtual environment, it may use a different parser and behave differently.\n",
      "\n",
      "The code that caused this warning is on line 193 of the file /anaconda3/lib/python3.6/runpy.py. To get rid of this warning, change code that looks like this:\n",
      "\n",
      " BeautifulSoup(YOUR_MARKUP})\n",
      "\n",
      "to this:\n",
      "\n",
      " BeautifulSoup(YOUR_MARKUP, \"lxml\")\n",
      "\n",
      "  markup_type=markup_type))\n"
     ]
    },
    {
     "name": "stdout",
     "output_type": "stream",
     "text": [
      "5\n",
      "10\n",
      "15\n",
      "20\n",
      "25\n"
     ]
    }
   ],
   "source": [
    "SearchString = '\"not sponsored\" -boats.com'\n",
    "video_id = SearchVid(SearchString.replace(\" \", \"%20\"), 29)"
   ]
  },
  {
   "cell_type": "code",
   "execution_count": 3,
   "metadata": {
    "collapsed": true
   },
   "outputs": [],
   "source": [
    "is_video = ['/watch?v=' in i for i in video_id]\n",
    "only_videos = [i for (i, v) in zip(video_id, is_video) if v]"
   ]
  },
  {
   "cell_type": "code",
   "execution_count": 4,
   "metadata": {},
   "outputs": [
    {
     "data": {
      "text/plain": [
       "420"
      ]
     },
     "execution_count": 4,
     "metadata": {},
     "output_type": "execute_result"
    }
   ],
   "source": [
    "len(only_videos)"
   ]
  },
  {
   "cell_type": "code",
   "execution_count": 5,
   "metadata": {
    "collapsed": true
   },
   "outputs": [],
   "source": [
    "urls = [\"http://www.youtube.com\"+i for i in only_videos]"
   ]
  },
  {
   "cell_type": "code",
   "execution_count": 6,
   "metadata": {
    "collapsed": true
   },
   "outputs": [],
   "source": [
    "### Save list of video ids\n",
    "video_ids = [i.replace('/watch?v=','') for i in only_videos]\n",
    "pickle.dump(video_ids, open(\"not_sponsored_videoIDs_lessboats.sav\", 'wb'))"
   ]
  },
  {
   "cell_type": "code",
   "execution_count": 7,
   "metadata": {
    "collapsed": true
   },
   "outputs": [],
   "source": [
    "nsp_video_ids = pickle.load(open(\"not_sponsored_videoIDs.sav\", \"rb\")) #load ids of non sponsored videos"
   ]
  },
  {
   "cell_type": "code",
   "execution_count": 9,
   "metadata": {},
   "outputs": [],
   "source": [
    "video_ids = (list(set(video_ids) - set(nsp_video_ids)))"
   ]
  },
  {
   "cell_type": "code",
   "execution_count": 10,
   "metadata": {},
   "outputs": [
    {
     "data": {
      "text/plain": [
       "['http://www.youtube.com/watch?v=cQKSzqlIiSg',\n",
       " 'http://www.youtube.com/watch?v=p9Cmf8I_m5Q',\n",
       " 'http://www.youtube.com/watch?v=VClBDRuIdGU',\n",
       " 'http://www.youtube.com/watch?v=yCcu_LD_Sv4',\n",
       " 'http://www.youtube.com/watch?v=29qjkcc-Go8',\n",
       " 'http://www.youtube.com/watch?v=RnUlqWGH9hI',\n",
       " 'http://www.youtube.com/watch?v=p8ilA4jOeSM',\n",
       " 'http://www.youtube.com/watch?v=cxy5Jv4i_hk',\n",
       " 'http://www.youtube.com/watch?v=qlb-gXGpUt8',\n",
       " 'http://www.youtube.com/watch?v=Ce0Cl1kMVWY',\n",
       " 'http://www.youtube.com/watch?v=68ZDyIOaO4M',\n",
       " 'http://www.youtube.com/watch?v=OqAnljnn_DI',\n",
       " 'http://www.youtube.com/watch?v=Z0Kg7I2ZYms',\n",
       " 'http://www.youtube.com/watch?v=hZX8Y27gsUM',\n",
       " 'http://www.youtube.com/watch?v=679sgukB2SM',\n",
       " 'http://www.youtube.com/watch?v=af4R1n87eWY',\n",
       " 'http://www.youtube.com/watch?v=yL8YSlaKfQQ',\n",
       " 'http://www.youtube.com/watch?v=FLXbaG9F6B4',\n",
       " 'http://www.youtube.com/watch?v=eOtItn_e-oU',\n",
       " 'http://www.youtube.com/watch?v=76odXfhXMPE',\n",
       " 'http://www.youtube.com/watch?v=4DhE5v1Xpj0',\n",
       " 'http://www.youtube.com/watch?v=Ylm2q6V9k_c',\n",
       " 'http://www.youtube.com/watch?v=SxYJLD_T2x4',\n",
       " 'http://www.youtube.com/watch?v=9p1pDrtt3IQ',\n",
       " 'http://www.youtube.com/watch?v=36SJW7MOLQo',\n",
       " 'http://www.youtube.com/watch?v=dWNc4Eavyns',\n",
       " 'http://www.youtube.com/watch?v=DrkLtjaNusA',\n",
       " 'http://www.youtube.com/watch?v=j5NAWyHPEFg',\n",
       " 'http://www.youtube.com/watch?v=E0N3fdetCVY',\n",
       " 'http://www.youtube.com/watch?v=ExXQGGWReRs',\n",
       " 'http://www.youtube.com/watch?v=KfSRFpiEhto',\n",
       " 'http://www.youtube.com/watch?v=Ld67NTOJH_Q',\n",
       " 'http://www.youtube.com/watch?v=Ik1C5S7TnsI',\n",
       " 'http://www.youtube.com/watch?v=to6GsnuPSsA',\n",
       " 'http://www.youtube.com/watch?v=7FMKy1FBlwg',\n",
       " 'http://www.youtube.com/watch?v=slG9_dJc7YM',\n",
       " 'http://www.youtube.com/watch?v=ntCC46A_KRY',\n",
       " 'http://www.youtube.com/watch?v=ea9JtagNQOg',\n",
       " 'http://www.youtube.com/watch?v=vU37psEO0Gc',\n",
       " 'http://www.youtube.com/watch?v=bbfk2pMzuUs',\n",
       " 'http://www.youtube.com/watch?v=p_UcBaCdvZM',\n",
       " 'http://www.youtube.com/watch?v=2eLEMYUGsgY',\n",
       " 'http://www.youtube.com/watch?v=BEAAQ45pV0U',\n",
       " 'http://www.youtube.com/watch?v=o6q9T_uASzQ',\n",
       " 'http://www.youtube.com/watch?v=JejYI1ka8TE',\n",
       " 'http://www.youtube.com/watch?v=1Bbq-GF4S_I',\n",
       " 'http://www.youtube.com/watch?v=6lLaoJS2xuc',\n",
       " 'http://www.youtube.com/watch?v=Tb1waskO8ag',\n",
       " 'http://www.youtube.com/watch?v=ZGfmzv4MKCo',\n",
       " 'http://www.youtube.com/watch?v=HeEgCysFuTQ',\n",
       " 'http://www.youtube.com/watch?v=aIWLzpWlm-c',\n",
       " 'http://www.youtube.com/watch?v=igQEITyTpfM',\n",
       " 'http://www.youtube.com/watch?v=GfPDclxSvpc',\n",
       " 'http://www.youtube.com/watch?v=ctOR7ZoebAE',\n",
       " 'http://www.youtube.com/watch?v=W1HfmeVddaY',\n",
       " 'http://www.youtube.com/watch?v=nb-a7yNAyXE',\n",
       " 'http://www.youtube.com/watch?v=kBa4uREKH84',\n",
       " 'http://www.youtube.com/watch?v=8_cDFTEN6cY',\n",
       " 'http://www.youtube.com/watch?v=3Z9TQ5nvNws',\n",
       " 'http://www.youtube.com/watch?v=C2hBLb7d0E8',\n",
       " 'http://www.youtube.com/watch?v=wtobpI3AHTs',\n",
       " 'http://www.youtube.com/watch?v=emmX6sRvfEI',\n",
       " 'http://www.youtube.com/watch?v=nPBzREsEcYk',\n",
       " 'http://www.youtube.com/watch?v=ifmeZX1IwTM',\n",
       " 'http://www.youtube.com/watch?v=hlxFzAZJ6gc',\n",
       " 'http://www.youtube.com/watch?v=TOg4mxIPDIs',\n",
       " 'http://www.youtube.com/watch?v=wA9Zc2HCZAo',\n",
       " 'http://www.youtube.com/watch?v=dXSr4-vUSJo',\n",
       " 'http://www.youtube.com/watch?v=FHl59kCQiIg',\n",
       " 'http://www.youtube.com/watch?v=WyXh_bFM1Ao',\n",
       " 'http://www.youtube.com/watch?v=3v7msVHsA34',\n",
       " 'http://www.youtube.com/watch?v=cPjwDpkyqwM',\n",
       " 'http://www.youtube.com/watch?v=PXaA58lhQQA',\n",
       " 'http://www.youtube.com/watch?v=-OqZCllxooI',\n",
       " 'http://www.youtube.com/watch?v=Vdi2BmZVnoU',\n",
       " 'http://www.youtube.com/watch?v=BQEdonkdefU',\n",
       " 'http://www.youtube.com/watch?v=9EqZEAg3hw4',\n",
       " 'http://www.youtube.com/watch?v=8Jp5wm15mD4',\n",
       " 'http://www.youtube.com/watch?v=Zprw5ODBBZY',\n",
       " 'http://www.youtube.com/watch?v=2RGk-CeBF1s',\n",
       " 'http://www.youtube.com/watch?v=JXC6TVL7Og8',\n",
       " 'http://www.youtube.com/watch?v=9CX1ELwEk-w',\n",
       " 'http://www.youtube.com/watch?v=QAYTrhxw71Y',\n",
       " 'http://www.youtube.com/watch?v=Jy1LsHEHH18',\n",
       " 'http://www.youtube.com/watch?v=puEWiKvy9_g',\n",
       " 'http://www.youtube.com/watch?v=_CVf8MAqDnY',\n",
       " 'http://www.youtube.com/watch?v=0dbRXC1YZt4',\n",
       " 'http://www.youtube.com/watch?v=rCQtha5PqxE',\n",
       " 'http://www.youtube.com/watch?v=SadXL0GaTVU',\n",
       " 'http://www.youtube.com/watch?v=mFpaLROlPV8',\n",
       " 'http://www.youtube.com/watch?v=fGcIYmZl8Wo',\n",
       " 'http://www.youtube.com/watch?v=lYLCsK7pbrY',\n",
       " 'http://www.youtube.com/watch?v=ekSiRSA7fwg',\n",
       " 'http://www.youtube.com/watch?v=LZKP8VWDVFg',\n",
       " 'http://www.youtube.com/watch?v=kIiGPoiswrU',\n",
       " 'http://www.youtube.com/watch?v=MsAVDXRivs8',\n",
       " 'http://www.youtube.com/watch?v=Wdt4zHOIagg',\n",
       " 'http://www.youtube.com/watch?v=4w88dGbI40s',\n",
       " 'http://www.youtube.com/watch?v=WU-cp9d3I_I',\n",
       " 'http://www.youtube.com/watch?v=hOHh5Ke3e6w',\n",
       " 'http://www.youtube.com/watch?v=WgQb94UIi3E',\n",
       " 'http://www.youtube.com/watch?v=JWtd7pZLNoc',\n",
       " 'http://www.youtube.com/watch?v=s96arwQMAz4',\n",
       " 'http://www.youtube.com/watch?v=IhaTFP7_UCo',\n",
       " 'http://www.youtube.com/watch?v=3P5bUQdYSkA',\n",
       " 'http://www.youtube.com/watch?v=0ZXM-2JXmAc',\n",
       " 'http://www.youtube.com/watch?v=NB9be9rHccE',\n",
       " 'http://www.youtube.com/watch?v=MjQ4rlimBj8',\n",
       " 'http://www.youtube.com/watch?v=1PVk_ON2zrw',\n",
       " 'http://www.youtube.com/watch?v=OWi-_HgdLrg',\n",
       " 'http://www.youtube.com/watch?v=8twGUdvwMDc',\n",
       " 'http://www.youtube.com/watch?v=XbLkMhQftQY',\n",
       " 'http://www.youtube.com/watch?v=YIAv9qgaBMc',\n",
       " 'http://www.youtube.com/watch?v=-b90c--ZG4A',\n",
       " 'http://www.youtube.com/watch?v=FC5dxE-clJE',\n",
       " 'http://www.youtube.com/watch?v=1I2vcwyqaEU',\n",
       " 'http://www.youtube.com/watch?v=t4pl7YpshC4',\n",
       " 'http://www.youtube.com/watch?v=EFF3T98PeKM',\n",
       " 'http://www.youtube.com/watch?v=BV7LtfbStHw',\n",
       " 'http://www.youtube.com/watch?v=f6vG5GFr9ng',\n",
       " 'http://www.youtube.com/watch?v=K4ghyWuF1uI',\n",
       " 'http://www.youtube.com/watch?v=AStDvvOHK5A',\n",
       " 'http://www.youtube.com/watch?v=S1lz3p9LtcM',\n",
       " 'http://www.youtube.com/watch?v=6TaGVedUxrA',\n",
       " 'http://www.youtube.com/watch?v=bAqpPDl2eY0',\n",
       " 'http://www.youtube.com/watch?v=QPFAbbA0Qek',\n",
       " 'http://www.youtube.com/watch?v=07MlYwZ6hiM',\n",
       " 'http://www.youtube.com/watch?v=4Nrzs4u5NRY',\n",
       " 'http://www.youtube.com/watch?v=zl4JbN3_sLg',\n",
       " 'http://www.youtube.com/watch?v=Xp9tLgRVDF0',\n",
       " 'http://www.youtube.com/watch?v=XtiBKSA3DOY',\n",
       " 'http://www.youtube.com/watch?v=okkrYc9SWGw']"
      ]
     },
     "execution_count": 10,
     "metadata": {},
     "output_type": "execute_result"
    }
   ],
   "source": [
    "urls = [\"http://www.youtube.com/watch?v=\"+i for i in video_ids]\n",
    "urls"
   ]
  },
  {
   "cell_type": "markdown",
   "metadata": {},
   "source": [
    "## scrape captions"
   ]
  },
  {
   "cell_type": "code",
   "execution_count": 11,
   "metadata": {
    "scrolled": true
   },
   "outputs": [
    {
     "name": "stdout",
     "output_type": "stream",
     "text": [
      "0\n",
      "1\n",
      "2\n",
      "3\n",
      "4\n",
      "5\n",
      "6\n",
      "7\n",
      "8\n",
      "9\n",
      "10\n",
      "11\n",
      "12\n",
      "13\n",
      "14\n",
      "15\n",
      "16\n",
      "17\n",
      "18\n",
      "19\n",
      "20\n",
      "21\n",
      "22\n",
      "23\n",
      "24\n",
      "25\n",
      "26\n",
      "27\n",
      "28\n",
      "29\n",
      "30\n",
      "31\n",
      "32\n",
      "33\n",
      "34\n",
      "35\n",
      "36\n",
      "37\n",
      "38\n",
      "39\n",
      "40\n",
      "41\n",
      "42\n",
      "43\n",
      "44\n",
      "45\n",
      "46\n",
      "47\n",
      "48\n",
      "49\n",
      "50\n",
      "51\n",
      "52\n",
      "53\n",
      "54\n",
      "55\n",
      "56\n",
      "57\n",
      "58\n",
      "59\n",
      "60\n",
      "61\n",
      "62\n",
      "63\n",
      "64\n",
      "65\n",
      "66\n",
      "67\n",
      "68\n",
      "69\n",
      "70\n",
      "71\n",
      "72\n",
      "73\n",
      "74\n",
      "75\n",
      "76\n",
      "77\n",
      "78\n",
      "79\n",
      "80\n",
      "81\n",
      "82\n",
      "83\n",
      "84\n",
      "85\n",
      "86\n",
      "87\n",
      "88\n",
      "89\n",
      "90\n",
      "91\n",
      "92\n",
      "93\n",
      "94\n",
      "95\n",
      "96\n",
      "97\n",
      "98\n",
      "99\n",
      "100\n",
      "101\n",
      "102\n",
      "103\n",
      "104\n",
      "105\n",
      "106\n",
      "107\n",
      "108\n",
      "109\n",
      "110\n",
      "111\n",
      "112\n",
      "113\n",
      "114\n",
      "115\n",
      "116\n",
      "117\n",
      "118\n",
      "119\n",
      "120\n",
      "121\n",
      "122\n",
      "123\n",
      "124\n",
      "125\n",
      "126\n",
      "127\n",
      "128\n",
      "129\n",
      "130\n",
      "131\n"
     ]
    }
   ],
   "source": [
    "for i in range(len(urls)):\n",
    "    print(i)\n",
    "    download_subs(urls[i])"
   ]
  },
  {
   "cell_type": "code",
   "execution_count": 9,
   "metadata": {},
   "outputs": [
    {
     "data": {
      "text/plain": [
       "['0z5kMdxnj48', 'Q5oXLF3TlTs', '1xbI7kQZ3Cw']"
      ]
     },
     "execution_count": 9,
     "metadata": {},
     "output_type": "execute_result"
    }
   ],
   "source": [
    "video_ids[:3]"
   ]
  },
  {
   "cell_type": "code",
   "execution_count": null,
   "metadata": {
    "collapsed": true
   },
   "outputs": [],
   "source": [
    "pickle.dump(video_ids, open(\"not_sponsored_videoIDs_lessboats.sav\", 'wb'))"
   ]
  },
  {
   "cell_type": "markdown",
   "metadata": {},
   "source": [
    "# Get list of videos that are sponsored"
   ]
  },
  {
   "cell_type": "code",
   "execution_count": 3,
   "metadata": {},
   "outputs": [
    {
     "name": "stderr",
     "output_type": "stream",
     "text": [
      "/anaconda3/lib/python3.6/site-packages/bs4/__init__.py:181: UserWarning: No parser was explicitly specified, so I'm using the best available HTML parser for this system (\"lxml\"). This usually isn't a problem, but if you run this code on another system, or in a different virtual environment, it may use a different parser and behave differently.\n",
      "\n",
      "The code that caused this warning is on line 193 of the file /anaconda3/lib/python3.6/runpy.py. To get rid of this warning, change code that looks like this:\n",
      "\n",
      " BeautifulSoup(YOUR_MARKUP})\n",
      "\n",
      "to this:\n",
      "\n",
      " BeautifulSoup(YOUR_MARKUP, \"lxml\")\n",
      "\n",
      "  markup_type=markup_type))\n"
     ]
    },
    {
     "name": "stdout",
     "output_type": "stream",
     "text": [
      "5\n",
      "10\n",
      "15\n",
      "20\n",
      "25\n"
     ]
    }
   ],
   "source": [
    "SearchString = '\"sponsored by\" -boats.com'\n",
    "video_id = SearchVid(SearchString.replace(\" \", \"%20\"), 29)"
   ]
  },
  {
   "cell_type": "code",
   "execution_count": 4,
   "metadata": {
    "collapsed": true
   },
   "outputs": [],
   "source": [
    "#ensure that list only contains videos (no ads, playlists, etc)\n",
    "is_video = ['/watch?v=' in i for i in video_id]\n",
    "only_videos = [i for (i, v) in zip(video_id, is_video) if v] "
   ]
  },
  {
   "cell_type": "code",
   "execution_count": 5,
   "metadata": {},
   "outputs": [
    {
     "data": {
      "text/plain": [
       "486"
      ]
     },
     "execution_count": 5,
     "metadata": {},
     "output_type": "execute_result"
    }
   ],
   "source": [
    "len(only_videos)"
   ]
  },
  {
   "cell_type": "code",
   "execution_count": 13,
   "metadata": {
    "collapsed": true
   },
   "outputs": [],
   "source": [
    "#only_videos"
   ]
  },
  {
   "cell_type": "code",
   "execution_count": 6,
   "metadata": {
    "collapsed": true
   },
   "outputs": [],
   "source": [
    "#convert partial url to full url\n",
    "urls = [\"http://www.youtube.com\"+i for i in only_videos] #"
   ]
  },
  {
   "cell_type": "code",
   "execution_count": 15,
   "metadata": {
    "collapsed": true
   },
   "outputs": [],
   "source": [
    "#urls"
   ]
  },
  {
   "cell_type": "markdown",
   "metadata": {},
   "source": [
    "## Scrape captions of sponsored videos"
   ]
  },
  {
   "cell_type": "code",
   "execution_count": 7,
   "metadata": {
    "scrolled": false
   },
   "outputs": [
    {
     "name": "stdout",
     "output_type": "stream",
     "text": [
      "0\n",
      "50\n",
      "100\n",
      "150\n",
      "200\n",
      "250\n",
      "300\n",
      "350\n",
      "400\n",
      "450\n"
     ]
    }
   ],
   "source": [
    "#captions by url\n",
    "for i in range(len(urls)):\n",
    "    if i % 50 == 0:\n",
    "        print(i)\n",
    "    download_subs(urls[i])"
   ]
  },
  {
   "cell_type": "code",
   "execution_count": 8,
   "metadata": {
    "collapsed": true
   },
   "outputs": [],
   "source": [
    "### Save list of video ids without any prefixes\n",
    "video_ids = [i.replace('/watch?v=','') for i in only_videos]\n",
    "pickle.dump(video_ids, open(\"sponsored_videoIDs_noboats.sav\", 'wb'))"
   ]
  },
  {
   "cell_type": "code",
   "execution_count": 9,
   "metadata": {
    "collapsed": true
   },
   "outputs": [],
   "source": [
    "video_ids_noboats = video_ids"
   ]
  },
  {
   "cell_type": "code",
   "execution_count": 14,
   "metadata": {
    "collapsed": true
   },
   "outputs": [],
   "source": [
    "video_ids_wboats = pickle.load(open(\"sponsored_videoIDs.sav\", \"rb\"))"
   ]
  },
  {
   "cell_type": "code",
   "execution_count": 17,
   "metadata": {
    "collapsed": true
   },
   "outputs": [],
   "source": [
    "sp_video_ids = set(video_ids_wboats).union(set(video_ids_noboats))"
   ]
  },
  {
   "cell_type": "code",
   "execution_count": 21,
   "metadata": {
    "collapsed": true
   },
   "outputs": [],
   "source": [
    "pickle.dump(list(sp_video_ids), open(\"sponsored_videoIDs_lessboats.sav\", 'wb'))"
   ]
  },
  {
   "cell_type": "code",
   "execution_count": 20,
   "metadata": {},
   "outputs": [
    {
     "data": {
      "text/plain": [
       "984"
      ]
     },
     "execution_count": 20,
     "metadata": {},
     "output_type": "execute_result"
    }
   ],
   "source": [
    "len(sp_video_ids)"
   ]
  },
  {
   "cell_type": "code",
   "execution_count": null,
   "metadata": {
    "collapsed": true
   },
   "outputs": [],
   "source": []
  }
 ],
 "metadata": {
  "kernelspec": {
   "display_name": "Python 3",
   "language": "python",
   "name": "python3"
  },
  "language_info": {
   "codemirror_mode": {
    "name": "ipython",
    "version": 3
   },
   "file_extension": ".py",
   "mimetype": "text/x-python",
   "name": "python",
   "nbconvert_exporter": "python",
   "pygments_lexer": "ipython3",
   "version": "3.6.3"
  }
 },
 "nbformat": 4,
 "nbformat_minor": 2
}
