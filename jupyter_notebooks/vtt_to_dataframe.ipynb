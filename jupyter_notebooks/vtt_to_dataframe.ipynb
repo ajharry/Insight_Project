{
 "cells": [
  {
   "cell_type": "code",
   "execution_count": 38,
   "metadata": {
    "collapsed": true
   },
   "outputs": [],
   "source": [
    "from webvtt import WebVTT\n",
    "import pandas as pd\n",
    "import glob\n",
    "import pickle"
   ]
  },
  {
   "cell_type": "markdown",
   "metadata": {},
   "source": [
    "# Load video ids"
   ]
  },
  {
   "cell_type": "code",
   "execution_count": 39,
   "metadata": {},
   "outputs": [],
   "source": [
    "nsp_video_ids1 = pickle.load(open(\"not_sponsored_videoIDs.sav\", \"rb\")) #load ids of non sponsored videos\n",
    "nsp_video_ids2 = pickle.load(open(\"not_sponsored_videoIDs_lessboats.sav\", \"rb\")) #load ids of non sponsored videos\n",
    "nsp_video_ids = list(set(nsp_video_ids1).union(set(nsp_video_ids2)))"
   ]
  },
  {
   "cell_type": "code",
   "execution_count": 40,
   "metadata": {},
   "outputs": [],
   "source": [
    "sp_video_ids1 = pickle.load(open(\"sponsored_videoIDs.sav\", \"rb\")) #load ids of sponsored videos\n",
    "sp_video_ids2 = pickle.load(open(\"sponsored_videoIDs_lessboats.sav\", \"rb\")) #load ids of sponsored videos\n",
    "sp_video_ids = list(set(sp_video_ids1).union(set(sp_video_ids2)))"
   ]
  },
  {
   "cell_type": "code",
   "execution_count": 41,
   "metadata": {},
   "outputs": [
    {
     "name": "stdout",
     "output_type": "stream",
     "text": [
      "549\n",
      "1085\n"
     ]
    }
   ],
   "source": [
    "print(len(nsp_video_ids))\n",
    "print(len(sp_video_ids))"
   ]
  },
  {
   "cell_type": "markdown",
   "metadata": {},
   "source": [
    "# get list of file names and video ids that have captions"
   ]
  },
  {
   "cell_type": "markdown",
   "metadata": {},
   "source": [
    "### not sponsored"
   ]
  },
  {
   "cell_type": "code",
   "execution_count": 42,
   "metadata": {
    "collapsed": true
   },
   "outputs": [],
   "source": [
    "nsp_filenames = [glob.glob('captions/*'+i+'.en.vtt') for i in nsp_video_ids]"
   ]
  },
  {
   "cell_type": "code",
   "execution_count": 43,
   "metadata": {
    "collapsed": true
   },
   "outputs": [],
   "source": [
    "have_caption = [i != [] for i in nsp_filenames]\n",
    "nsp_filenames = [i for (i, v) in zip(nsp_filenames, have_caption) if v]\n",
    "nsp_video_ids = [i for (i, v) in zip(nsp_video_ids, have_caption) if v]"
   ]
  },
  {
   "cell_type": "code",
   "execution_count": 44,
   "metadata": {
    "collapsed": true
   },
   "outputs": [],
   "source": [
    "nsp_filenames = [y for x in nsp_filenames for y in x] #flatten list of lists"
   ]
  },
  {
   "cell_type": "code",
   "execution_count": 46,
   "metadata": {},
   "outputs": [
    {
     "data": {
      "text/plain": [
       "434"
      ]
     },
     "execution_count": 46,
     "metadata": {},
     "output_type": "execute_result"
    }
   ],
   "source": [
    "len(nsp_filenames) == len(nsp_video_ids)"
   ]
  },
  {
   "cell_type": "markdown",
   "metadata": {},
   "source": [
    "### sponsored"
   ]
  },
  {
   "cell_type": "code",
   "execution_count": 47,
   "metadata": {
    "collapsed": true
   },
   "outputs": [],
   "source": [
    "sp_filenames = [glob.glob('captions/*'+i+'.en.vtt') for i in sp_video_ids]"
   ]
  },
  {
   "cell_type": "code",
   "execution_count": 48,
   "metadata": {
    "collapsed": true
   },
   "outputs": [],
   "source": [
    "have_caption = [i != [] for i in sp_filenames]\n",
    "sp_filenames = [i for (i, v) in zip(sp_filenames, have_caption) if v]\n",
    "sp_video_ids = [i for (i, v) in zip(sp_video_ids, have_caption) if v]"
   ]
  },
  {
   "cell_type": "code",
   "execution_count": 49,
   "metadata": {
    "collapsed": true
   },
   "outputs": [],
   "source": [
    "sp_filenames = [y for x in sp_filenames for y in x] #flatten list of lists"
   ]
  },
  {
   "cell_type": "code",
   "execution_count": 51,
   "metadata": {},
   "outputs": [
    {
     "data": {
      "text/plain": [
       "True"
      ]
     },
     "execution_count": 51,
     "metadata": {},
     "output_type": "execute_result"
    }
   ],
   "source": [
    "len(sp_filenames) == len(sp_video_ids)"
   ]
  },
  {
   "cell_type": "markdown",
   "metadata": {},
   "source": [
    "# Convert caption files"
   ]
  },
  {
   "cell_type": "code",
   "execution_count": 52,
   "metadata": {
    "collapsed": true
   },
   "outputs": [],
   "source": [
    "nsp_fullCaptions = []\n",
    "\n",
    "for f in nsp_filenames:\n",
    "    text = []\n",
    "    for caption in WebVTT().read(f):\n",
    "        text.append(caption.text)\n",
    "    nsp_fullCaptions.append((' ').join(text))"
   ]
  },
  {
   "cell_type": "code",
   "execution_count": 53,
   "metadata": {
    "collapsed": true
   },
   "outputs": [],
   "source": [
    "sp_fullCaptions = []\n",
    "\n",
    "for f in sp_filenames:\n",
    "    text = []\n",
    "    for caption in WebVTT().read(f):\n",
    "        text.append(caption.text)\n",
    "    sp_fullCaptions.append((' ').join(text))"
   ]
  },
  {
   "cell_type": "code",
   "execution_count": 54,
   "metadata": {},
   "outputs": [
    {
     "data": {
      "text/plain": [
       "True"
      ]
     },
     "execution_count": 54,
     "metadata": {},
     "output_type": "execute_result"
    }
   ],
   "source": [
    "len(nsp_fullCaptions)==len(nsp_filenames)"
   ]
  },
  {
   "cell_type": "code",
   "execution_count": 55,
   "metadata": {},
   "outputs": [
    {
     "data": {
      "text/plain": [
       "True"
      ]
     },
     "execution_count": 55,
     "metadata": {},
     "output_type": "execute_result"
    }
   ],
   "source": [
    "len(sp_fullCaptions)==len(sp_filenames)"
   ]
  },
  {
   "cell_type": "code",
   "execution_count": 56,
   "metadata": {
    "collapsed": true
   },
   "outputs": [],
   "source": [
    "yt_vid_captions = pd.DataFrame(\n",
    "    {'video_ids': nsp_video_ids + sp_video_ids,\n",
    "     'captions': nsp_fullCaptions + sp_fullCaptions,\n",
    "     'sponsored':['no']*len(nsp_video_ids) + ['yes']*len(sp_video_ids)\n",
    "    })"
   ]
  },
  {
   "cell_type": "code",
   "execution_count": 57,
   "metadata": {},
   "outputs": [
    {
     "data": {
      "text/html": [
       "<div>\n",
       "<style>\n",
       "    .dataframe thead tr:only-child th {\n",
       "        text-align: right;\n",
       "    }\n",
       "\n",
       "    .dataframe thead th {\n",
       "        text-align: left;\n",
       "    }\n",
       "\n",
       "    .dataframe tbody tr th {\n",
       "        vertical-align: top;\n",
       "    }\n",
       "</style>\n",
       "<table border=\"1\" class=\"dataframe\">\n",
       "  <thead>\n",
       "    <tr style=\"text-align: right;\">\n",
       "      <th></th>\n",
       "      <th>captions</th>\n",
       "      <th>sponsored</th>\n",
       "      <th>video_ids</th>\n",
       "    </tr>\n",
       "  </thead>\n",
       "  <tbody>\n",
       "    <tr>\n",
       "      <th>0</th>\n",
       "      <td>[Music] hi guys what's up welcome back to my c...</td>\n",
       "      <td>no</td>\n",
       "      <td>to6GsnuPSsA</td>\n",
       "    </tr>\n",
       "    <tr>\n",
       "      <th>1</th>\n",
       "      <td>here's what guys welcome to today's video disc...</td>\n",
       "      <td>no</td>\n",
       "      <td>GSbtmopATpQ</td>\n",
       "    </tr>\n",
       "    <tr>\n",
       "      <th>2</th>\n",
       "      <td>hey everyone welcome back to my channel so tod...</td>\n",
       "      <td>no</td>\n",
       "      <td>jlnTZfnp1Zs</td>\n",
       "    </tr>\n",
       "    <tr>\n",
       "      <th>3</th>\n",
       "      <td>hey guys it's the amazing chicken and today we...</td>\n",
       "      <td>no</td>\n",
       "      <td>-pbWy4piyq8</td>\n",
       "    </tr>\n",
       "    <tr>\n",
       "      <th>4</th>\n",
       "      <td>hi Rosie friends its Julie and today the summe...</td>\n",
       "      <td>no</td>\n",
       "      <td>f6vG5GFr9ng</td>\n",
       "    </tr>\n",
       "  </tbody>\n",
       "</table>\n",
       "</div>"
      ],
      "text/plain": [
       "                                            captions sponsored    video_ids\n",
       "0  [Music] hi guys what's up welcome back to my c...        no  to6GsnuPSsA\n",
       "1  here's what guys welcome to today's video disc...        no  GSbtmopATpQ\n",
       "2  hey everyone welcome back to my channel so tod...        no  jlnTZfnp1Zs\n",
       "3  hey guys it's the amazing chicken and today we...        no  -pbWy4piyq8\n",
       "4  hi Rosie friends its Julie and today the summe...        no  f6vG5GFr9ng"
      ]
     },
     "execution_count": 57,
     "metadata": {},
     "output_type": "execute_result"
    }
   ],
   "source": [
    "yt_vid_captions.head()"
   ]
  },
  {
   "cell_type": "code",
   "execution_count": 58,
   "metadata": {},
   "outputs": [
    {
     "data": {
      "text/html": [
       "<div>\n",
       "<style>\n",
       "    .dataframe thead tr:only-child th {\n",
       "        text-align: right;\n",
       "    }\n",
       "\n",
       "    .dataframe thead th {\n",
       "        text-align: left;\n",
       "    }\n",
       "\n",
       "    .dataframe tbody tr th {\n",
       "        vertical-align: top;\n",
       "    }\n",
       "</style>\n",
       "<table border=\"1\" class=\"dataframe\">\n",
       "  <thead>\n",
       "    <tr style=\"text-align: right;\">\n",
       "      <th></th>\n",
       "      <th>captions</th>\n",
       "      <th>sponsored</th>\n",
       "      <th>video_ids</th>\n",
       "    </tr>\n",
       "  </thead>\n",
       "  <tbody>\n",
       "    <tr>\n",
       "      <th>1043</th>\n",
       "      <td>[Music] take some board all of the testing tha...</td>\n",
       "      <td>yes</td>\n",
       "      <td>cvULpIyab6M</td>\n",
       "    </tr>\n",
       "    <tr>\n",
       "      <th>1044</th>\n",
       "      <td>this is a sea Fox 328 commander it's built in ...</td>\n",
       "      <td>yes</td>\n",
       "      <td>XqkhZFcwb1s</td>\n",
       "    </tr>\n",
       "    <tr>\n",
       "      <th>1045</th>\n",
       "      <td>I'm on bedale gumbo you're his fantasies 2013 ...</td>\n",
       "      <td>yes</td>\n",
       "      <td>rRHYiWMvcIA</td>\n",
       "    </tr>\n",
       "    <tr>\n",
       "      <th>1046</th>\n",
       "      <td>[Music] Delphia is a prolific polish yard with...</td>\n",
       "      <td>yes</td>\n",
       "      <td>te7rvh-KD20</td>\n",
       "    </tr>\n",
       "    <tr>\n",
       "      <th>1047</th>\n",
       "      <td>[Music] here at the düsseldorf Boat Show Sunse...</td>\n",
       "      <td>yes</td>\n",
       "      <td>dzsjyWdi6Jk</td>\n",
       "    </tr>\n",
       "  </tbody>\n",
       "</table>\n",
       "</div>"
      ],
      "text/plain": [
       "                                               captions sponsored    video_ids\n",
       "1043  [Music] take some board all of the testing tha...       yes  cvULpIyab6M\n",
       "1044  this is a sea Fox 328 commander it's built in ...       yes  XqkhZFcwb1s\n",
       "1045  I'm on bedale gumbo you're his fantasies 2013 ...       yes  rRHYiWMvcIA\n",
       "1046  [Music] Delphia is a prolific polish yard with...       yes  te7rvh-KD20\n",
       "1047  [Music] here at the düsseldorf Boat Show Sunse...       yes  dzsjyWdi6Jk"
      ]
     },
     "execution_count": 58,
     "metadata": {},
     "output_type": "execute_result"
    }
   ],
   "source": [
    "yt_vid_captions.tail()"
   ]
  },
  {
   "cell_type": "code",
   "execution_count": 59,
   "metadata": {
    "collapsed": true
   },
   "outputs": [],
   "source": [
    "#yt_vid_captions.to_pickle(\"youtube_captions_scraped.pickle\")"
   ]
  },
  {
   "cell_type": "code",
   "execution_count": 60,
   "metadata": {
    "collapsed": true
   },
   "outputs": [],
   "source": [
    "yt_vid_captions.to_pickle(\"youtube_captions_scraped_all.pickle\")"
   ]
  },
  {
   "cell_type": "code",
   "execution_count": null,
   "metadata": {
    "collapsed": true
   },
   "outputs": [],
   "source": []
  }
 ],
 "metadata": {
  "kernelspec": {
   "display_name": "Python 3",
   "language": "python",
   "name": "python3"
  },
  "language_info": {
   "codemirror_mode": {
    "name": "ipython",
    "version": 3
   },
   "file_extension": ".py",
   "mimetype": "text/x-python",
   "name": "python",
   "nbconvert_exporter": "python",
   "pygments_lexer": "ipython3",
   "version": "3.6.3"
  }
 },
 "nbformat": 4,
 "nbformat_minor": 2
}
