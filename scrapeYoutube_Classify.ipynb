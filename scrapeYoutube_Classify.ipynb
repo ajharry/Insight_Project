{
 "cells": [
  {
   "cell_type": "code",
   "execution_count": 2,
   "metadata": {
    "collapsed": true
   },
   "outputs": [],
   "source": [
    "youtube_data = pd.read_pickle(\"youtube_captions_scraped_filterChannels.pickle\")"
   ]
  },
  {
   "cell_type": "code",
   "execution_count": 1,
   "metadata": {
    "collapsed": true
   },
   "outputs": [],
   "source": [
    "from nltk.tokenize import word_tokenize # or use some other tokenizer\n",
    "from nltk.corpus import stopwords\n",
    "from nltk.stem import PorterStemmer\n",
    "\n",
    "from sklearn import svm, datasets, preprocessing\n",
    "from sklearn.feature_extraction.text import CountVectorizer, TfidfVectorizer\n",
    "from sklearn.svm import SVC\n",
    "from sklearn.metrics import roc_auc_score, confusion_matrix, roc_curve, auc\n",
    "from sklearn.model_selection import train_test_split\n",
    "from sklearn.naive_bayes import GaussianNB, BernoulliNB\n",
    "\n",
    "from datetime import date\n",
    "\n",
    "import string\n",
    "import random\n",
    "import nltk\n",
    "import pickle\n",
    "import itertools\n",
    "\n",
    "\n",
    "import pandas as pd\n",
    "import numpy as np\n",
    "import matplotlib.pyplot as plt\n",
    "\n",
    "\n",
    "\n",
    "\n",
    "def document_features(document, word_features):\n",
    "    document_words = stem_and_tokenize([document])\n",
    "    features = {}\n",
    "    for word in word_features:\n",
    "        features['contains({})'.format(word)] = (word in document_words)\n",
    "    return features\n",
    "\n",
    "def stem_and_tokenize(document_words):\n",
    "    ps = PorterStemmer()\n",
    "    stop = stopwords.words('english') + list(string.punctuation)\n",
    "    \n",
    "    tokens = []\n",
    "    \n",
    "    ## remove stop words and tokenize\n",
    "    for sentence in document_words:\n",
    "        tokens.append([i for i in word_tokenize(sentence.lower()) if i not in stop])\n",
    "    \n",
    "    ## flatten word list\n",
    "    words = [y for x in tokens for y in x]\n",
    "    \n",
    "    ## remove numbers and special characters\n",
    "    words = [word for word in words if word.isalpha()]\n",
    "    \n",
    "    ## stem words\n",
    "    stemmed_words = [ps.stem(w) for w in words]\n",
    "    \n",
    "    return stemmed_words\n",
    "    \n",
    "def plot_confusion_matrix(cm, classes,\n",
    "                          normalize=False,\n",
    "                          title='Confusion matrix',\n",
    "                          cmap=plt.cm.Blues):\n",
    "\n",
    "    plt.imshow(cm, interpolation='nearest', cmap=cmap)\n",
    "    plt.title(title)\n",
    "    plt.colorbar()\n",
    "    tick_marks = np.arange(len(classes))\n",
    "    plt.xticks(tick_marks, classes, rotation=45)\n",
    "    plt.yticks(tick_marks, classes)\n",
    "\n",
    "    fmt = '.2f' if normalize else 'd'\n",
    "    thresh = cm.max() / 2.\n",
    "    for i, j in itertools.product(range(cm.shape[0]), range(cm.shape[1])):\n",
    "        plt.text(j, i, format(cm[i, j], fmt),\n",
    "                 horizontalalignment=\"center\",\n",
    "                 color=\"white\" if cm[i, j] > thresh else \"black\")\n",
    "\n",
    "    plt.tight_layout()\n",
    "    plt.ylabel('True label')\n",
    "    plt.xlabel('Predicted label')"
   ]
  },
  {
   "cell_type": "code",
   "execution_count": 3,
   "metadata": {
    "collapsed": true
   },
   "outputs": [],
   "source": [
    "sample_size = 250\n",
    "not_spon = [index for index, item in enumerate(youtube_data.sponsored) if item == 'no']\n",
    "not_spon_sample = random.sample(not_spon,sample_size)\n",
    "spon = [index for index, item in enumerate(youtube_data.sponsored) if item == 'yes']\n",
    "spon_sample = random.sample(spon,sample_size)"
   ]
  },
  {
   "cell_type": "code",
   "execution_count": 4,
   "metadata": {},
   "outputs": [
    {
     "name": "stdout",
     "output_type": "stream",
     "text": [
      "500\n"
     ]
    },
    {
     "data": {
      "text/html": [
       "<div>\n",
       "<style>\n",
       "    .dataframe thead tr:only-child th {\n",
       "        text-align: right;\n",
       "    }\n",
       "\n",
       "    .dataframe thead th {\n",
       "        text-align: left;\n",
       "    }\n",
       "\n",
       "    .dataframe tbody tr th {\n",
       "        vertical-align: top;\n",
       "    }\n",
       "</style>\n",
       "<table border=\"1\" class=\"dataframe\">\n",
       "  <thead>\n",
       "    <tr style=\"text-align: right;\">\n",
       "      <th></th>\n",
       "      <th>captions</th>\n",
       "      <th>sponsored</th>\n",
       "      <th>video_ids</th>\n",
       "      <th>channels</th>\n",
       "    </tr>\n",
       "  </thead>\n",
       "  <tbody>\n",
       "    <tr>\n",
       "      <th>57</th>\n",
       "      <td>in today's video I'm going to be vlogging it's...</td>\n",
       "      <td>no</td>\n",
       "      <td>JzQEy822kBU</td>\n",
       "      <td>Needle Media</td>\n",
       "    </tr>\n",
       "    <tr>\n",
       "      <th>38</th>\n",
       "      <td>my question that I'm posing to myself and I'm ...</td>\n",
       "      <td>no</td>\n",
       "      <td>5bbgvABAFJ8</td>\n",
       "      <td>Jen Luvs Reviews</td>\n",
       "    </tr>\n",
       "    <tr>\n",
       "      <th>291</th>\n",
       "      <td>hey everyone its Ashlee um and today I have a ...</td>\n",
       "      <td>no</td>\n",
       "      <td>EdPFF1zD-v4</td>\n",
       "      <td>Ashley Awesome Artist</td>\n",
       "    </tr>\n",
       "    <tr>\n",
       "      <th>148</th>\n",
       "      <td>hey guys welcome back so today I'm doing somet...</td>\n",
       "      <td>no</td>\n",
       "      <td>-3k0PlaJH2s</td>\n",
       "      <td>Joso Anani</td>\n",
       "    </tr>\n",
       "    <tr>\n",
       "      <th>124</th>\n",
       "      <td>[Music] [Music] hey what's up my name is Luke ...</td>\n",
       "      <td>no</td>\n",
       "      <td>MUCoV8gdJYM</td>\n",
       "      <td>TwinSauce</td>\n",
       "    </tr>\n",
       "  </tbody>\n",
       "</table>\n",
       "</div>"
      ],
      "text/plain": [
       "                                              captions sponsored    video_ids  \\\n",
       "57   in today's video I'm going to be vlogging it's...        no  JzQEy822kBU   \n",
       "38   my question that I'm posing to myself and I'm ...        no  5bbgvABAFJ8   \n",
       "291  hey everyone its Ashlee um and today I have a ...        no  EdPFF1zD-v4   \n",
       "148  hey guys welcome back so today I'm doing somet...        no  -3k0PlaJH2s   \n",
       "124  [Music] [Music] hey what's up my name is Luke ...        no  MUCoV8gdJYM   \n",
       "\n",
       "                  channels  \n",
       "57            Needle Media  \n",
       "38        Jen Luvs Reviews  \n",
       "291  Ashley Awesome Artist  \n",
       "148             Joso Anani  \n",
       "124              TwinSauce  "
      ]
     },
     "execution_count": 4,
     "metadata": {},
     "output_type": "execute_result"
    }
   ],
   "source": [
    "train = youtube_data.iloc[not_spon_sample + spon_sample, :]\n",
    "print(len(train))\n",
    "train.head()"
   ]
  },
  {
   "cell_type": "code",
   "execution_count": 61,
   "metadata": {
    "collapsed": true
   },
   "outputs": [],
   "source": [
    "\n",
    "\n",
    "spon_test =  list(set(spon) - set(spon_sample))\n",
    "not_spon_test =  list(set(not_spon) - set(not_spon_sample))\n"
   ]
  },
  {
   "cell_type": "code",
   "execution_count": 62,
   "metadata": {},
   "outputs": [
    {
     "data": {
      "text/plain": [
       "(189, 33)"
      ]
     },
     "execution_count": 62,
     "metadata": {},
     "output_type": "execute_result"
    }
   ],
   "source": [
    "len(spon_test), len(not_spon_test)"
   ]
  },
  {
   "cell_type": "code",
   "execution_count": 66,
   "metadata": {
    "collapsed": true
   },
   "outputs": [],
   "source": [
    "sample_size_test = 30\n",
    "\n",
    "not_spon_sample = random.sample(not_spon_test,sample_size_test)\n",
    "spon_sample = random.sample(spon_test,sample_size_test)\n",
    "\n",
    "test = youtube_data.iloc[not_spon_sample+ spon_sample, :]"
   ]
  },
  {
   "cell_type": "code",
   "execution_count": 67,
   "metadata": {},
   "outputs": [
    {
     "data": {
      "text/plain": [
       "60"
      ]
     },
     "execution_count": 67,
     "metadata": {},
     "output_type": "execute_result"
    }
   ],
   "source": [
    "len(test)"
   ]
  },
  {
   "cell_type": "markdown",
   "metadata": {},
   "source": [
    "# tokenized features Naive Bayes"
   ]
  },
  {
   "cell_type": "code",
   "execution_count": 6,
   "metadata": {
    "collapsed": true
   },
   "outputs": [],
   "source": [
    "all_words = nltk.FreqDist(stem_and_tokenize(train.captions))\n",
    "word_features = list(all_words)"
   ]
  },
  {
   "cell_type": "code",
   "execution_count": 7,
   "metadata": {},
   "outputs": [
    {
     "data": {
      "text/plain": [
       "['today',\n",
       " 'video',\n",
       " 'go',\n",
       " 'vlog',\n",
       " 'sinc',\n",
       " 'done',\n",
       " 'one',\n",
       " 'probabl',\n",
       " 'low',\n",
       " 'rescu']"
      ]
     },
     "execution_count": 7,
     "metadata": {},
     "output_type": "execute_result"
    }
   ],
   "source": [
    "word_features[:10]"
   ]
  },
  {
   "cell_type": "code",
   "execution_count": 8,
   "metadata": {},
   "outputs": [
    {
     "data": {
      "text/plain": [
       "14920"
      ]
     },
     "execution_count": 8,
     "metadata": {},
     "output_type": "execute_result"
    }
   ],
   "source": [
    "len(word_features)"
   ]
  },
  {
   "cell_type": "code",
   "execution_count": 9,
   "metadata": {},
   "outputs": [
    {
     "data": {
      "text/plain": [
       "['today',\n",
       " 'video',\n",
       " 'go',\n",
       " 'vlog',\n",
       " 'sinc',\n",
       " 'done',\n",
       " 'one',\n",
       " 'probabl',\n",
       " 'low',\n",
       " 'rescu']"
      ]
     },
     "execution_count": 9,
     "metadata": {},
     "output_type": "execute_result"
    }
   ],
   "source": [
    "stem_and_tokenize([train.captions.iloc[0]])[:10] #input must be list!!!!!"
   ]
  },
  {
   "cell_type": "code",
   "execution_count": 10,
   "metadata": {
    "collapsed": true
   },
   "outputs": [],
   "source": [
    "filename = 'dictionary_scrape_stemmed.sav'\n",
    "pickle.dump(word_features, open(filename, 'wb'))"
   ]
  },
  {
   "cell_type": "code",
   "execution_count": 11,
   "metadata": {},
   "outputs": [
    {
     "data": {
      "text/plain": [
       "{'contains(today)': True,\n",
       " 'contains(video)': True,\n",
       " 'contains(go)': True,\n",
       " 'contains(vlog)': True,\n",
       " 'contains(sinc)': True,\n",
       " 'contains(done)': True,\n",
       " 'contains(one)': True,\n",
       " 'contains(probabl)': True,\n",
       " 'contains(low)': True,\n",
       " 'contains(rescu)': True,\n",
       " 'contains(anyway)': True,\n",
       " 'contains(gon)': True,\n",
       " 'contains(na)': True,\n",
       " 'contains(answer)': True,\n",
       " 'contains(ton)': True,\n",
       " 'contains(question)': True,\n",
       " 'contains(gotten)': True,\n",
       " 'contains(email)': True,\n",
       " 'contains(throughout)': True,\n",
       " 'contains(past)': True,\n",
       " 'contains(coupl)': True,\n",
       " 'contains(week)': True,\n",
       " 'contains(start)': True,\n",
       " 'contains(type)': True,\n",
       " 'contains(want)': True,\n",
       " 'contains(guy)': True,\n",
       " 'contains(unfortun)': True,\n",
       " 'contains(mani)': True,\n",
       " 'contains(point)': True,\n",
       " 'contains(ca)': True,\n",
       " 'contains(separ)': True,\n",
       " 'contains(reason)': True,\n",
       " 'contains(current)': True,\n",
       " 'contains(green)': True,\n",
       " 'contains(lake)': True,\n",
       " 'contains(state)': True,\n",
       " 'contains(park)': True,\n",
       " 'contains(near)': True,\n",
       " 'contains(beauti)': True,\n",
       " 'contains(let)': True,\n",
       " 'contains(get)': True,\n",
       " 'contains(guess)': True,\n",
       " 'contains(got)': True,\n",
       " 'contains(ben)': True,\n",
       " 'contains(walton)': True,\n",
       " 'contains(throw)': True,\n",
       " 'contains(right)': True,\n",
       " 'contains(pretti)': True,\n",
       " 'contains(much)': True,\n",
       " 'contains(ask)': True,\n",
       " 'contains(metal)': True,\n",
       " 'contains(hub)': True,\n",
       " 'contains(guard)': True,\n",
       " 'contains(plastic)': True,\n",
       " 'contains(sleev)': True,\n",
       " 'contains(know)': True,\n",
       " 'contains(post)': True,\n",
       " 'contains(back)': True,\n",
       " 'contains(say)': True,\n",
       " 'contains(peg)': True,\n",
       " 'contains(awesom)': True,\n",
       " 'contains(liter)': True,\n",
       " 'contains(save)': True,\n",
       " 'contains(life)': True,\n",
       " 'contains(goe)': True,\n",
       " 'contains(mental)': True,\n",
       " 'contains(health)': True,\n",
       " 'contains(definit)': True,\n",
       " 'contains(way)': True,\n",
       " 'contains(opinion)': True,\n",
       " 'contains(outer)': True,\n",
       " 'contains(case)': True,\n",
       " 'contains(realli)': True,\n",
       " 'contains(annoy)': True,\n",
       " 'contains(grind)': True,\n",
       " 'contains(lot)': True,\n",
       " 'contains(mean)': True,\n",
       " 'contains(soon)': True,\n",
       " 'contains(fade)': True,\n",
       " 'contains(clearli)': True,\n",
       " 'contains(duh)': True,\n",
       " 'contains(kind)': True,\n",
       " 'contains(overlay)': True,\n",
       " 'contains(rub)': True,\n",
       " 'contains(spoke)': True,\n",
       " 'contains(sound)': True,\n",
       " 'contains(like)': True,\n",
       " 'contains(put)': True,\n",
       " 'contains(credit)': True,\n",
       " 'contains(card)': True,\n",
       " 'contains(sometim)': True,\n",
       " 'contains(even)': True,\n",
       " 'contains(lock)': True,\n",
       " 'contains(damag)': True,\n",
       " 'contains(hand)': True,\n",
       " 'contains(take)': True,\n",
       " 'contains(four)': True,\n",
       " 'contains(year)': True,\n",
       " 'contains(happen)': True,\n",
       " 'contains(recommend)': True,\n",
       " 'contains(although)': True,\n",
       " 'contains(cupboard)': True,\n",
       " 'contains(could)': True,\n",
       " 'contains(cheaper)': True,\n",
       " 'contains(weight)': True,\n",
       " 'contains(suffici)': True,\n",
       " 'contains(would)': True,\n",
       " 'contains(anyth)': True,\n",
       " 'contains(backup)': True,\n",
       " 'contains(three)': True,\n",
       " 'contains(still)': True,\n",
       " 'contains(run)': True,\n",
       " 'contains(perfectli)': True,\n",
       " 'contains(fine)': True,\n",
       " 'contains(ever)': True,\n",
       " 'contains(thank)': True,\n",
       " 'contains(button)': True,\n",
       " 'contains(spot)': True,\n",
       " 'contains(head)': True,\n",
       " 'contains(travel)': True,\n",
       " 'contains(somewher)': True,\n",
       " 'contains(els)': True,\n",
       " 'contains(sun)': True,\n",
       " 'contains(beat)': True,\n",
       " 'contains(neck)': True,\n",
       " 'contains(make)': True,\n",
       " 'contains(sweat)': True,\n",
       " 'contains(death)': True,\n",
       " 'contains(bmx)': True,\n",
       " 'contains(bike)': True,\n",
       " 'contains(buy)': True,\n",
       " 'contains(quit)': True,\n",
       " 'contains(honestli)': True,\n",
       " 'contains(top)': True,\n",
       " 'contains(come)': True,\n",
       " 'contains(earlier)': True,\n",
       " 'contains(mainli)': True,\n",
       " 'contains(world)': True,\n",
       " 'contains(mix)': True,\n",
       " 'contains(someth)': True,\n",
       " 'contains(seri)': True,\n",
       " 'contains(lookout)': True,\n",
       " 'contains(mention)': True,\n",
       " 'contains(next)': True,\n",
       " 'contains(ruben)': True,\n",
       " 'contains(derham)': True,\n",
       " 'contains(gave)': True,\n",
       " 'contains(idea)': True,\n",
       " 'contains(film)': True,\n",
       " 'contains(month)': True,\n",
       " 'contains(super)': True,\n",
       " 'contains(stoke)': True,\n",
       " 'contains(injur)': True,\n",
       " 'contains(struggl)': True,\n",
       " 'contains(lay)': True,\n",
       " 'contains(bed)': True,\n",
       " 'contains(sleep)': True,\n",
       " 'contains(half)': True,\n",
       " 'contains(day)': True,\n",
       " 'contains(give)': True,\n",
       " 'contains(rememb)': True,\n",
       " 'contains(shout)': True,\n",
       " 'contains(messag)': True,\n",
       " 'contains(alright)': True,\n",
       " 'contains(load)': True,\n",
       " 'contains(two)': True,\n",
       " 'contains(bar)': True,\n",
       " 'contains(share)': True,\n",
       " 'contains(background)': True,\n",
       " 'contains(inform)': True,\n",
       " 'contains(eeri)': True,\n",
       " 'contains(creepi)': True,\n",
       " 'contains(letharg)': True,\n",
       " 'contains(unenthusiast)': True,\n",
       " 'contains(last)': True,\n",
       " 'contains(ladi)': True,\n",
       " 'contains(kill)': True,\n",
       " 'contains(transgend)': True,\n",
       " 'contains(killer)': True,\n",
       " 'contains(self)': True,\n",
       " 'contains(handcuf)': True,\n",
       " 'contains(ride)': True,\n",
       " 'contains(feet)': True,\n",
       " 'contains(deep)': True,\n",
       " 'contains(deepest)': True,\n",
       " 'contains(new)': True,\n",
       " 'contains(york)': True,\n",
       " 'contains(call)': True,\n",
       " 'contains(water)': True,\n",
       " 'contains(crazi)': True,\n",
       " 'contains(main)': True,\n",
       " 'contains(pink)': True,\n",
       " 'contains(layer)': True,\n",
       " 'contains(reflect)': True,\n",
       " 'contains(sunlight)': True,\n",
       " 'contains(scienc)': True,\n",
       " 'contains(well)': True,\n",
       " 'contains(hit)': True,\n",
       " 'contains(bottom)': True,\n",
       " 'contains(onto)': True,\n",
       " 'contains(caus)': True,\n",
       " 'contains(place)': True,\n",
       " 'contains(freakin)': True,\n",
       " 'contains(gorgeou)': True,\n",
       " 'contains(dylan)': True,\n",
       " 'contains(sousa)': True,\n",
       " 'contains(quick)': True,\n",
       " 'contains(note)': True,\n",
       " 'contains(yet)': True,\n",
       " 'contains(respond)': True,\n",
       " 'contains(yeah)': True,\n",
       " 'contains(tri)': True,\n",
       " 'contains(sponsor)': True,\n",
       " 'contains(compani)': True,\n",
       " 'contains(thought)': True,\n",
       " 'contains(geez)': True,\n",
       " 'contains(best)': True,\n",
       " 'contains(human)': True,\n",
       " 'contains(possibl)': True,\n",
       " 'contains(add)': True,\n",
       " 'contains(agil)': True,\n",
       " 'contains(bit)': True,\n",
       " 'contains(kang)': True,\n",
       " 'contains(wow)': True,\n",
       " 'contains(big)': True,\n",
       " 'contains(word)': True,\n",
       " 'contains(pronounc)': True,\n",
       " 'contains(whatsoev)': True,\n",
       " 'contains(unless)': True,\n",
       " 'contains(ban)': True,\n",
       " 'contains(part)': True,\n",
       " 'contains(wrap)': True,\n",
       " 'contains(hate)': True,\n",
       " 'contains(label)': True,\n",
       " 'contains(hey)': True,\n",
       " 'contains(giant)': True,\n",
       " 'contains(corpor)': True,\n",
       " 'contains(think)': True,\n",
       " 'contains(work)': True,\n",
       " 'contains(along)': True,\n",
       " 'contains(us)': True,\n",
       " 'contains(advantag)': True,\n",
       " 'contains(known)': True,\n",
       " 'contains(anoth)': True,\n",
       " 'contains(close)': True,\n",
       " 'contains(good)': True,\n",
       " 'contains(enough)': True,\n",
       " 'contains(stay)': True,\n",
       " 'contains(perfect)': True,\n",
       " 'contains(everi)': True,\n",
       " 'contains(rider)': True,\n",
       " 'contains(offer)': True,\n",
       " 'contains(time)': True,\n",
       " 'contains(see)': True,\n",
       " 'contains(rep)': True,\n",
       " 'contains(busi)': True,\n",
       " 'contains(cloth)': True,\n",
       " 'contains(accessori)': True,\n",
       " 'contains(stori)': True,\n",
       " 'contains(look)': True,\n",
       " 'contains(thrown)': True,\n",
       " 'contains(peopl)': True,\n",
       " 'contains(otherwis)': True,\n",
       " 'contains(grew)': True,\n",
       " 'contains(profession)': True,\n",
       " 'contains(cool)': True,\n",
       " 'contains(thing)': True,\n",
       " 'contains(grow)': True,\n",
       " 'contains(realiz)': True,\n",
       " 'contains(stuff)': True,\n",
       " 'contains(mine)': True,\n",
       " 'contains(short)': True,\n",
       " 'contains(sweet)': True,\n",
       " 'contains(version)': True,\n",
       " 'contains(never)': True,\n",
       " 'contains(school)': True,\n",
       " 'contains(move)': True,\n",
       " 'contains(differ)': True,\n",
       " 'contains(least)': True,\n",
       " 'contains(star)': True,\n",
       " 'contains(upload)': True,\n",
       " 'contains(skate)': True,\n",
       " 'contains(hurt)': True,\n",
       " 'contains(friend)': True,\n",
       " 'contains(badli)': True,\n",
       " 'contains(ryan)': True,\n",
       " 'contains(hope)': True,\n",
       " 'contains(read)': True,\n",
       " 'contains(everyth)': True,\n",
       " 'contains(better)': True,\n",
       " 'contains(deal)': True,\n",
       " 'contains(bag)': True,\n",
       " 'contains(hot)': True,\n",
       " 'contains(whole)': True,\n",
       " 'contains(serious)': True,\n",
       " 'contains(skateboard)': True,\n",
       " 'contains(long)': True,\n",
       " 'contains(ago)': True,\n",
       " 'contains(frankli)': True,\n",
       " 'contains(help)': True,\n",
       " 'contains(line)': True,\n",
       " 'contains(sold)': True,\n",
       " 'contains(rid)': True,\n",
       " 'contains(use)': True,\n",
       " 'contains(pop)': True,\n",
       " 'contains(olli)': True,\n",
       " 'contains(regular)': True,\n",
       " 'contains(pick)': True,\n",
       " 'contains(gator)': True,\n",
       " 'contains(littl)': True,\n",
       " 'contains(drive)': True,\n",
       " 'contains(store)': True,\n",
       " 'contains(treviri)': True,\n",
       " 'contains(kevin)': True,\n",
       " 'contains(patrick)': True,\n",
       " 'contains(bad)': True,\n",
       " 'contains(skull)': True,\n",
       " 'contains(fractur)': True,\n",
       " 'contains(brain)': True,\n",
       " 'contains(bleed)': True,\n",
       " 'contains(atroci)': True,\n",
       " 'contains(gloomi)': True,\n",
       " 'contains(wan)': True,\n",
       " 'contains(told)': True,\n",
       " 'contains(wed)': True,\n",
       " 'contains(father)': True,\n",
       " 'contains(said)': True,\n",
       " 'contains(oh)': True,\n",
       " 'contains(photo)': True,\n",
       " 'contains(facebook)': True,\n",
       " 'contains(solo)': True,\n",
       " 'contains(session)': True,\n",
       " 'contains(local)': True,\n",
       " 'contains(lazi)': True,\n",
       " 'contains(okay)': True,\n",
       " 'contains(hour)': True,\n",
       " 'contains(later)': True,\n",
       " 'contains(buddi)': True,\n",
       " 'contains(angel)': True,\n",
       " 'contains(timmi)': True,\n",
       " 'contains(continu)': True,\n",
       " 'contains(left)': True,\n",
       " 'contains(dori)': True,\n",
       " 'contains(vivid)': True,\n",
       " 'contains(neither)': True,\n",
       " 'contains(anybodi)': True,\n",
       " 'contains(home)': True,\n",
       " 'contains(span)': True,\n",
       " 'contains(leav)': True,\n",
       " 'contains(taxi)': True,\n",
       " 'contains(speed)': True,\n",
       " 'contains(stop)': True,\n",
       " 'contains(sign)': True,\n",
       " 'contains(red)': True,\n",
       " 'contains(light)': True,\n",
       " 'contains(ram)': True,\n",
       " 'contains(hard)': True,\n",
       " 'contains(entir)': True,\n",
       " 'contains(mess)': True,\n",
       " 'contains(blood)': True,\n",
       " 'contains(anywher)': True,\n",
       " 'contains(scene)': True,\n",
       " 'contains(cover)': True,\n",
       " 'contains(found)': True,\n",
       " 'contains(crank)': True,\n",
       " 'contains(scari)': True,\n",
       " 'contains(real)': True,\n",
       " 'contains(scratch)': True,\n",
       " 'contains(bodi)': True,\n",
       " 'contains(ramp)': True,\n",
       " 'contains(front)': True,\n",
       " 'contains(car)': True,\n",
       " 'contains(fast)': True,\n",
       " 'contains(flip)': True,\n",
       " 'contains(handlebar)': True,\n",
       " 'contains(drove)': True,\n",
       " 'contains(arm)': True,\n",
       " 'contains(protect)': True,\n",
       " 'contains(swell)': True,\n",
       " 'contains(bow)': True,\n",
       " 'contains(max)': True,\n",
       " 'contains(roll)': True,\n",
       " 'contains(everybodi)': True,\n",
       " 'contains(worri)': True,\n",
       " 'contains(updat)': True,\n",
       " 'contains(noth)': True,\n",
       " 'contains(comment)': True,\n",
       " 'contains(erupt)': True,\n",
       " 'contains(hell)': True,\n",
       " 'contains(scoop)': True,\n",
       " 'contains(beef)': True,\n",
       " 'contains(ex)': True,\n",
       " 'contains(subscrib)': True,\n",
       " 'contains(promot)': True,\n",
       " 'contains(channel)': True,\n",
       " 'contains(horribl)': True,\n",
       " 'contains(stupid)': True,\n",
       " 'contains(yada)': True,\n",
       " 'contains(fight)': True,\n",
       " 'contains(secur)': True,\n",
       " 'contains(punch)': True,\n",
       " 'contains(face)': True,\n",
       " 'contains(tell)': True,\n",
       " 'contains(dude)': True,\n",
       " 'contains(bye)': True,\n",
       " 'contains(complet)': True,\n",
       " 'contains(name)': True,\n",
       " 'contains(delet)': True,\n",
       " 'contains(repli)': True,\n",
       " 'contains(corni)': True,\n",
       " 'contains(second)': True,\n",
       " 'contains(someon)': True,\n",
       " 'contains(lose)': True,\n",
       " 'contains(keep)': True,\n",
       " 'contains(care)': True,\n",
       " 'contains(went)': True,\n",
       " 'contains(stevi)': True,\n",
       " 'contains(churchil)': True,\n",
       " 'contains(edit)': True,\n",
       " 'contains(copyright)': True,\n",
       " 'contains(strike)': True,\n",
       " 'contains(descript)': True,\n",
       " 'contains(none)': True,\n",
       " 'contains(clip)': True,\n",
       " 'contains(ib)': True,\n",
       " 'contains(affili)': True,\n",
       " 'contains(talk)': True,\n",
       " 'contains(meet)': True,\n",
       " 'contains(collab)': True,\n",
       " 'contains(dang)': True,\n",
       " 'contains(absolut)': True,\n",
       " 'contains(carri)': True,\n",
       " 'contains(camera)': True,\n",
       " 'contains(without)': True,\n",
       " 'contains(strap)': True,\n",
       " 'contains(almost)': True,\n",
       " 'contains(fall)': True,\n",
       " 'contains(shoulder)': True,\n",
       " 'contains(great)': True,\n",
       " 'contains(food)': True,\n",
       " 'contains(comic)': True,\n",
       " 'contains(babi)': True,\n",
       " 'contains(babe)': True,\n",
       " 'contains(healthi)': True,\n",
       " 'contains(far)': True,\n",
       " 'contains(rumor)': True,\n",
       " 'contains(brian)': True,\n",
       " 'contains(hear)': True,\n",
       " 'contains(butter)': True,\n",
       " 'contains(heard)': True,\n",
       " 'contains(spread)': True,\n",
       " 'contains(yo)': True,\n",
       " 'contains(afraid)': True,\n",
       " 'contains(yogurt)': True,\n",
       " 'contains(art)': True,\n",
       " 'contains(exhibit)': True,\n",
       " 'contains(cultur)': True,\n",
       " 'contains(plug)': True,\n",
       " 'contains(music)': True,\n",
       " 'contains(first)': True,\n",
       " 'contains(sens)': True,\n",
       " 'contains(burglar)': True,\n",
       " 'contains(huh)': True,\n",
       " 'contains(person)': True,\n",
       " 'contains(door)': True,\n",
       " 'contains(unpredict)': True,\n",
       " 'contains(photograph)': True,\n",
       " 'contains(loos)': True,\n",
       " 'contains(cannon)': True,\n",
       " 'contains(mari)': True,\n",
       " 'contains(explos)': True,\n",
       " 'contains(everywher)': True,\n",
       " 'contains(urin)': True,\n",
       " 'contains(arriv)': True,\n",
       " 'contains(area)': True,\n",
       " 'contains(locat)': True,\n",
       " 'contains(natur)': True,\n",
       " 'contains(trail)': True,\n",
       " 'contains(artsi)': True,\n",
       " 'contains(playground)': True,\n",
       " 'contains(learn)': True,\n",
       " 'contains(clue)': True,\n",
       " 'contains(prabha)': True,\n",
       " 'contains(amasian)': True,\n",
       " 'contains(sick)': True,\n",
       " 'contains(check)': True,\n",
       " 'contains(instagram)': True,\n",
       " 'contains(singl)': True,\n",
       " 'contains(mayb)': True,\n",
       " 'contains(need)': True,\n",
       " 'contains(show)': True,\n",
       " 'contains(strang)': True,\n",
       " 'contains(hous)': True,\n",
       " 'contains(end)': True,\n",
       " 'contains(tomorrow)': True,\n",
       " 'contains(dot)': True,\n",
       " 'contains(easter)': True,\n",
       " 'contains(usual)': True,\n",
       " 'contains(around)': True,\n",
       " 'contains(sure)': True,\n",
       " 'contains(drop)': True,\n",
       " 'contains(jump)': True,\n",
       " 'contains(support)': True,\n",
       " 'contains(watch)': True,\n",
       " 'contains(promis)': True,\n",
       " 'contains(tune)': True,\n",
       " 'contains(peac)': True,\n",
       " 'contains(pose)': False,\n",
       " 'contains(jen)': False,\n",
       " 'contains(worth)': False,\n",
       " 'contains(hello)': False,\n",
       " 'contains(welcom)': False,\n",
       " 'contains(review)': False,\n",
       " 'contains(frog)': False,\n",
       " 'contains(princ)': False,\n",
       " 'contains(collect)': False,\n",
       " 'contains(lipstick)': False,\n",
       " 'contains(queen)': False,\n",
       " 'contains(may)': False,\n",
       " 'contains(late)': False,\n",
       " 'contains(ish)': False,\n",
       " 'contains(aliv)': False,\n",
       " 'contains(drugstor)': False,\n",
       " 'contains(mom)': False,\n",
       " 'contains(beach)': False,\n",
       " 'contains(summer)': False,\n",
       " 'contains(girl)': False,\n",
       " 'contains(jenni)': False,\n",
       " 'contains(moham)': False,\n",
       " 'contains(money)': False,\n",
       " 'contains(goofi)': False,\n",
       " 'contains(saw)': False,\n",
       " 'contains(actual)': False,\n",
       " 'contains(ad)': False,\n",
       " 'contains(born)': False,\n",
       " 'contains(bunch)': False,\n",
       " 'contains(nail)': False,\n",
       " 'contains(rum)': False,\n",
       " 'contains(bought)': False,\n",
       " 'contains(cosmet)': False,\n",
       " 'contains(color)': False,\n",
       " 'contains(chang)': False,\n",
       " 'contains(brand)': False,\n",
       " 'contains(hautelook)': False,\n",
       " 'contains(cheap)': False,\n",
       " 'contains(kid)': False,\n",
       " 'contains(find)': False,\n",
       " 'contains(formula)': False,\n",
       " 'contains(hydrat)': False,\n",
       " 'contains(stain)': False,\n",
       " 'contains(weird)': False,\n",
       " 'contains(product)': False,\n",
       " 'contains(basi)': False,\n",
       " 'contains(comparison)': False,\n",
       " 'contains(seventi)': False,\n",
       " 'contains(five)': False,\n",
       " 'contains(dollar)': False,\n",
       " 'contains(blush)': False,\n",
       " 'contains(lip)': False,\n",
       " 'contains(gloss)': False,\n",
       " 'contains(steep)': False,\n",
       " 'contains(swatch)': False,\n",
       " 'contains(costli)': False,\n",
       " 'contains(tone)': False,\n",
       " 'contains(cours)': False,\n",
       " 'contains(wear)': False,\n",
       " 'contains(favorit)': False,\n",
       " 'contains(feel)': False,\n",
       " 'contains(applic)': False,\n",
       " 'contains(demo)': False,\n",
       " 'contains(bright)': False,\n",
       " 'contains(also)': False,\n",
       " 'contains(blend)': False,\n",
       " 'contains(nice)': False,\n",
       " 'contains(power)': False,\n",
       " 'contains(periscop)': False,\n",
       " 'contains(afternoon)': False,\n",
       " 'contains(seven)': False,\n",
       " 'contains(whoa)': False,\n",
       " 'contains(boss)': False,\n",
       " 'contains(ye)': False,\n",
       " 'contains(believ)': False,\n",
       " 'contains(gimmicki)': False,\n",
       " 'contains(pan)': False,\n",
       " 'contains(appli)': False,\n",
       " 'contains(stippl)': False,\n",
       " 'contains(brush)': False,\n",
       " 'contains(cheek)': False,\n",
       " 'contains(skin)': False,\n",
       " 'contains(heat)': False,\n",
       " 'contains(pull)': False,\n",
       " 'contains(thingi)': False,\n",
       " 'contains(alreadi)': False,\n",
       " 'contains(swirl)': False,\n",
       " 'contains(cream)': False,\n",
       " 'contains(figur)': False,\n",
       " 'contains(might)': False,\n",
       " 'contains(lighter)': False,\n",
       " 'contains(berri)': False,\n",
       " 'contains(overal)': False,\n",
       " 'contains(twelv)': False,\n",
       " 'contains(longev)': False,\n",
       " 'contains(stand)': False,\n",
       " 'contains(price)': False,\n",
       " 'contains(high)': False,\n",
       " 'contains(pay)': False,\n",
       " 'contains(fifteen)': False,\n",
       " 'contains(decid)': False,\n",
       " 'contains(tini)': False,\n",
       " 'contains(speck)': False,\n",
       " 'contains(glitter)': False,\n",
       " 'contains(problem)': False,\n",
       " 'contains(speckl)': False,\n",
       " 'contains(attract)': False,\n",
       " 'contains(mind)': False,\n",
       " 'contains(random)': False,\n",
       " 'contains(chin)': False,\n",
       " 'contains(eat)': False,\n",
       " 'contains(napkin)': False,\n",
       " 'contains(typic)': False,\n",
       " 'contains(expens)': False,\n",
       " 'contains(click)': False,\n",
       " 'contains(notifi)': False,\n",
       " 'contains(palett)': False,\n",
       " 'contains(kristen)': False,\n",
       " 'contains(game)': False,\n",
       " 'contains(kristin)': False,\n",
       " 'contains(talent)': False,\n",
       " 'contains(makeup)': False,\n",
       " 'contains(revolut)': False,\n",
       " 'contains(mad)': False,\n",
       " 'contains(love)': False,\n",
       " 'contains(weapon)': False,\n",
       " 'contains(print)': False,\n",
       " 'contains(throne)': False,\n",
       " 'contains(gosh)': False,\n",
       " 'contains(dawg)': False,\n",
       " 'contains(nois)': False,\n",
       " 'contains(loud)': False,\n",
       " 'contains(jiggli)': False,\n",
       " 'contains(jangl)': False,\n",
       " 'contains(everyon)': False,\n",
       " 'contains(ashle)': False,\n",
       " 'contains(um)': False,\n",
       " 'contains(special)': False,\n",
       " 'contains(guest)': False,\n",
       " 'contains(kinet)': False,\n",
       " 'contains(sand)': False,\n",
       " 'contains(hi)': False,\n",
       " 'contains(clair)': False,\n",
       " 'contains(ashley)': False,\n",
       " 'contains(sew)': False,\n",
       " 'contains(purpl)': False,\n",
       " 'contains(sparkli)': False,\n",
       " 'contains(split)': False,\n",
       " 'contains(cut)': False,\n",
       " 'contains(scribe)': False,\n",
       " 'contains(scratchi)': False,\n",
       " 'contains(rough)': False,\n",
       " 'contains(satisfi)': False,\n",
       " 'contains(play)': False,\n",
       " 'contains(cuz)': False,\n",
       " 'contains(mold)': False,\n",
       " 'contains(residu)': False,\n",
       " 'contains(sparkl)': False,\n",
       " 'contains(uh)': False,\n",
       " 'contains(dri)': False,\n",
       " 'contains(wait)': False,\n",
       " 'contains(listen)': False,\n",
       " 'contains(paper)': False,\n",
       " 'contains(fun)': False,\n",
       " 'contains(admit)': False,\n",
       " 'contains(smoothest)': False,\n",
       " 'contains(tip)': False,\n",
       " 'contains(item)': False,\n",
       " 'contains(zient)': False,\n",
       " 'contains(step)': False,\n",
       " 'contains(softer)': False,\n",
       " 'contains(white)': False,\n",
       " 'contains(soft)': False,\n",
       " 'contains(basil)': False,\n",
       " 'contains(pleas)': False,\n",
       " 'contains(ahead)': False,\n",
       " 'contains(sort)': False,\n",
       " 'contains(posit)': False,\n",
       " 'contains(betti)': False,\n",
       " 'contains(crack)': False,\n",
       " 'contains(extrem)': False,\n",
       " 'contains(fluffi)': False,\n",
       " 'contains(narrow)': False,\n",
       " 'contains(south)': False,\n",
       " 'contains(clear)': False,\n",
       " 'contains(touch)': False,\n",
       " 'contains(melt)': False,\n",
       " 'contains(mush)': False,\n",
       " 'contains(banaszak)': False,\n",
       " 'contains(apart)': False,\n",
       " 'contains(sticki)': False,\n",
       " 'contains(tabl)': False,\n",
       " 'contains(crumbl)': False,\n",
       " 'contains(wash)': False,\n",
       " 'contains(connect)': False,\n",
       " 'contains(live)': False,\n",
       " 'contains(test)': False,\n",
       " 'contains(destroy)': False,\n",
       " 'contains(pot)': False,\n",
       " 'contains(circl)': False,\n",
       " 'contains(consum)': False,\n",
       " 'contains(turn)': False,\n",
       " 'contains(flat)': False,\n",
       " 'contains(pancak)': False,\n",
       " 'contains(hold)': False,\n",
       " 'contains(notic)': False,\n",
       " 'contains(cute)': False,\n",
       " 'contains(yep)': False,\n",
       " 'contains(obvious)': False,\n",
       " 'contains(winner)': False,\n",
       " 'contains(intact)': False,\n",
       " 'contains(fluffier)': False,\n",
       " 'contains(enjoy)': False,\n",
       " 'contains(player)': False,\n",
       " 'contains(excit)': False,\n",
       " 'contains(truli)': False,\n",
       " 'contains(lifestyl)': False,\n",
       " 'contains(youtub)': False,\n",
       " 'contains(streamlin)': False,\n",
       " 'contains(content)': False,\n",
       " 'contains(million)': False,\n",
       " 'contains(view)': False,\n",
       " 'contains(appreci)': False,\n",
       " 'contains(whether)': False,\n",
       " 'contains(hair)': False,\n",
       " 'contains(whatev)': False,\n",
       " 'contains(ventur)': False,\n",
       " 'contains(research)': False,\n",
       " 'contains(altern)': False,\n",
       " 'contains(method)': False,\n",
       " 'contains(cora)': False,\n",
       " 'contains(tampon)': False,\n",
       " 'contains(organ)': False,\n",
       " 'contains(cotton)': False,\n",
       " 'contains(reach)': False,\n",
       " 'contains(ball)': False,\n",
       " 'contains(period)': False,\n",
       " 'contains(menstruat)': False,\n",
       " 'contains(kelli)': False,\n",
       " 'contains(legit)': False,\n",
       " 'contains(menstrual)': False,\n",
       " 'contains(cup)': False,\n",
       " 'contains(scoon)': False,\n",
       " 'contains(diva)': False,\n",
       " 'contains(glow)': False,\n",
       " 'contains(upfront)': False,\n",
       " 'contains(curv)': False,\n",
       " 'contains(lunett)': False,\n",
       " 'contains(simpli)': False,\n",
       " 'contains(particular)': False,\n",
       " 'contains(sad)': False,\n",
       " 'contains(retail)': False,\n",
       " 'contains(ziva)': False,\n",
       " 'contains(sale)': False,\n",
       " 'contains(coat)': False,\n",
       " 'contains(sacrific)': False,\n",
       " 'contains(ten)': False,\n",
       " 'contains(box)': False,\n",
       " 'contains(suck)': False,\n",
       " 'contains(spoon)': False,\n",
       " 'contains(futur)': False,\n",
       " 'contains(open)': False,\n",
       " 'contains(unbox)': False,\n",
       " 'contains(within)': False,\n",
       " 'contains(insert)': False,\n",
       " 'contains(final)': False,\n",
       " 'contains(technic)': False,\n",
       " 'contains(cramp)': False,\n",
       " 'contains(flow)': False,\n",
       " 'contains(reduc)': False,\n",
       " 'contains(amount)': False,\n",
       " 'contains(focu)': False,\n",
       " 'contains(straight)': False,\n",
       " 'contains(outpour)': False,\n",
       " 'contains(scare)': False,\n",
       " 'contains(chemic)': False,\n",
       " 'contains(contribut)': False,\n",
       " 'contains(factor)': False,\n",
       " 'contains(nutrit)': False,\n",
       " 'contains(huge)': False,\n",
       " 'contains(zoom)': False,\n",
       " 'contains(packag)': False,\n",
       " 'contains(sanitari)': False,\n",
       " 'contains(abl)': False,\n",
       " 'contains(intimid)': False,\n",
       " 'contains(lie)': False,\n",
       " 'contains(insid)': False,\n",
       " 'contains(baggi)': False,\n",
       " 'contains(booklet)': False,\n",
       " 'contains(vagina)': False,\n",
       " 'contains(instruct)': False,\n",
       " 'contains(interest)': False,\n",
       " 'contains(nervou)': False,\n",
       " 'contains(arrow)': False,\n",
       " 'contains(ooh)': False,\n",
       " 'contains(smaller)': False,\n",
       " 'contains(pliabl)': False,\n",
       " 'contains(ring)': False,\n",
       " 'contains(gynecologist)': False,\n",
       " 'contains(prescrib)': False,\n",
       " 'contains(central)': False,\n",
       " 'contains(parent)': False,\n",
       " 'contains(pill)': False,\n",
       " 'contains(nuvar)': False,\n",
       " 'contains(issu)': False,\n",
       " 'contains(hormon)': False,\n",
       " 'contains(solut)': False,\n",
       " 'contains(involv)': False,\n",
       " 'contains(whew)': False,\n",
       " 'contains(complain)': False,\n",
       " 'contains(stick)': False,\n",
       " 'contains(made)': False,\n",
       " 'contains(finland)': False,\n",
       " 'contains(seem)': False,\n",
       " 'contains(either)': False,\n",
       " 'contains(fold)': False,\n",
       " 'contains(halfway)': False,\n",
       " 'contains(seen)': False,\n",
       " 'contains(lean)': False,\n",
       " 'contains(toward)': False,\n",
       " 'contains(squeamish)': False,\n",
       " 'contains(normal)': False,\n",
       " 'contains(women)': False,\n",
       " 'contains(growth)': False,\n",
       " 'contains(neg)': False,\n",
       " 'contains(bathroom)': False,\n",
       " 'contains(felt)': False,\n",
       " 'contains(wipe)': False,\n",
       " 'contains(panti)': False,\n",
       " 'contains(liner)': False,\n",
       " 'contains(safeti)': False,\n",
       " 'contains(took)': False,\n",
       " 'contains(nap)': False,\n",
       " 'contains(poke)': False,\n",
       " 'contains(grab)': False,\n",
       " 'contains(buri)': False,\n",
       " 'contains(bear)': False,\n",
       " 'contains(birth)': False,\n",
       " 'contains(poop)': False,\n",
       " 'contains(cervix)': False,\n",
       " 'contains(push)': False,\n",
       " 'contains(wiggl)': False,\n",
       " 'contains(full)': False,\n",
       " 'contains(weigh)': False,\n",
       " 'contains(cue)': False,\n",
       " 'contains(empti)': False,\n",
       " 'contains(shock)': False,\n",
       " 'contains(held)': False,\n",
       " 'contains(pictur)': False,\n",
       " 'contains(dump)': False,\n",
       " 'contains(toilet)': False,\n",
       " 'contains(soap)': False,\n",
       " 'contains(screen)': False,\n",
       " 'contains(exactli)': False,\n",
       " 'contains(activ)': False,\n",
       " 'contains(nomad)': False,\n",
       " 'contains(thumb)': False,\n",
       " 'contains(spend)': False,\n",
       " 'contains(changer)': False,\n",
       " 'contains(bubbl)': False,\n",
       " 'contains(adjust)': False,\n",
       " 'contains(woke)': False,\n",
       " 'contains(string)': False,\n",
       " 'contains(hang)': False,\n",
       " 'contains(sauc)': False,\n",
       " 'contains(yesterday)': False,\n",
       " 'contains(came)': False,\n",
       " 'contains(mg)': False,\n",
       " 'contains(rins)': False,\n",
       " 'contains(till)': False,\n",
       " 'contains(morn)': False,\n",
       " 'contains(night)': False,\n",
       " 'contains(claim)': False,\n",
       " 'contains(brim)': False,\n",
       " 'contains(mark)': False,\n",
       " 'contains(clean)': False,\n",
       " 'contains(zumba)': False,\n",
       " 'contains(groceri)': False,\n",
       " 'contains(shop)': False,\n",
       " 'contains(meal)': False,\n",
       " 'contains(prep)': False,\n",
       " 'contains(danc)': False,\n",
       " 'contains(sing)': False,\n",
       " 'contains(amaz)': False,\n",
       " 'contains(consid)': False,\n",
       " 'contains(beg)': False,\n",
       " 'contains(onlin)': False,\n",
       " 'contains(search)': False,\n",
       " 'contains(mitchel)': False,\n",
       " 'contains(undo)': False,\n",
       " 'contains(winnett)': False,\n",
       " 'contains(rest)': False,\n",
       " 'contains(anyhow)': False,\n",
       " 'contains(luke)': False,\n",
       " 'contains(paul)': False,\n",
       " 'contains(floyd)': False,\n",
       " 'contains(detroit)': False,\n",
       " 'contains(frame)': False,\n",
       " 'contains(togeth)': False,\n",
       " 'contains(mattress)': False,\n",
       " 'contains(laid)': False,\n",
       " 'contains(set)': False,\n",
       " 'contains(leg)': False,\n",
       " 'contains(board)': False,\n",
       " 'contains(side)': False,\n",
       " 'contains(inch)': False,\n",
       " 'contains(macbook)': False,\n",
       " 'contains(pro)': False,\n",
       " 'contains(measur)': False,\n",
       " 'contains(edg)': False,\n",
       " 'contains(matter)': False,\n",
       " 'contains(length)': False,\n",
       " 'contains(depth)': False,\n",
       " 'contains(aesthet)': False,\n",
       " 'contains(kim)': False,\n",
       " 'contains(barri)': False,\n",
       " 'contains(ratchet)': False,\n",
       " 'contains(tricki)': False,\n",
       " 'contains(harder)': False,\n",
       " 'contains(threw)': False,\n",
       " 'contains(remain)': False,\n",
       " 'contains(granger)': False,\n",
       " 'contains(harri)': False,\n",
       " 'contains(potter)': False,\n",
       " 'contains(poster)': False,\n",
       " 'contains(hook)': False,\n",
       " 'contains(underneath)': False,\n",
       " 'contains(yardstick)': False,\n",
       " 'contains(broom)': False,\n",
       " 'contains(handl)': False,\n",
       " 'contains(straighten)': False,\n",
       " 'contains(twist)': False,\n",
       " 'contains(feed)': False,\n",
       " 'contains(cord)': False,\n",
       " 'contains(tight)': False,\n",
       " 'contains(slack)': False,\n",
       " 'contains(lego)': False,\n",
       " 'contains(tighten)': False,\n",
       " 'contains(simpl)': False,\n",
       " 'contains(forth)': False,\n",
       " 'contains(groov)': False,\n",
       " 'contains(handi)': False,\n",
       " 'contains(easier)': False,\n",
       " 'contains(wish)': False,\n",
       " 'contains(util)': False,\n",
       " 'contains(ikea)': False,\n",
       " 'contains(room)': False,\n",
       " 'contains(vagabond)': False,\n",
       " 'contains(durabl)': False,\n",
       " 'contains(portabl)': False,\n",
       " 'contains(common)': False,\n",
       " 'contains(warn)': False,\n",
       " 'contains(wood)': False,\n",
       " 'contains(floor)': False,\n",
       " 'contains(potenti)': False,\n",
       " 'contains(cork)': False,\n",
       " 'contains(sticker)': False,\n",
       " 'contains(invest)': False,\n",
       " 'contains(rug)': False,\n",
       " 'contains(anymor)': False,\n",
       " 'contains(acid)': False,\n",
       " 'contains(comfort)': False,\n",
       " 'contains(slept)': False,\n",
       " 'contains(wake)': False,\n",
       " 'contains(refresh)': False,\n",
       " 'contains(flop)': False,\n",
       " 'contains(heavi)': False,\n",
       " 'contains(con)': False,\n",
       " 'contains(blue)': False,\n",
       " 'contains(void)': False,\n",
       " 'contains(replac)': False,\n",
       " 'contains(fit)': False,\n",
       " 'contains(brace)': False,\n",
       " 'contains(sent)': False,\n",
       " 'contains(appear)': False,\n",
       " 'contains(send)': False,\n",
       " 'contains(cent)': False,\n",
       " 'contains(info)': False,\n",
       " 'contains(die)': False,\n",
       " 'contains(respons)': False,\n",
       " 'contains(rain)': False,\n",
       " 'contains(poopi)': False,\n",
       " 'contains(colleg)': False,\n",
       " 'contains(court)': False,\n",
       " 'contains(jim)': False,\n",
       " 'contains(gener)': False,\n",
       " 'contains(moment)': False,\n",
       " 'contains(advic)': False,\n",
       " 'contains(seamless)': False,\n",
       " 'contains(jewish)': False,\n",
       " 'contains(risk)': False,\n",
       " 'contains(tutor)': False,\n",
       " 'contains(boy)': False,\n",
       " ...}"
      ]
     },
     "execution_count": 11,
     "metadata": {},
     "output_type": "execute_result"
    }
   ],
   "source": [
    "i = 0\n",
    "document_features(train.captions.iloc[i],\n",
    "                      word_features)"
   ]
  },
  {
   "cell_type": "code",
   "execution_count": 12,
   "metadata": {
    "collapsed": true
   },
   "outputs": [],
   "source": [
    "feature_set = []\n",
    "for i in range(len(train)):\n",
    "    feature_set.append((document_features(train.captions.iloc[i],\n",
    "                      word_features), \n",
    "           train.sponsored.iloc[i]))"
   ]
  },
  {
   "cell_type": "code",
   "execution_count": 13,
   "metadata": {
    "collapsed": true
   },
   "outputs": [],
   "source": [
    "classifier = nltk.NaiveBayesClassifier.train(feature_set)"
   ]
  },
  {
   "cell_type": "code",
   "execution_count": 14,
   "metadata": {},
   "outputs": [
    {
     "name": "stdout",
     "output_type": "stream",
     "text": [
      "Most Informative Features\n",
      "       contains(skincar) = True               no : yes    =     15.7 : 1.0\n",
      "      contains(cleanser) = True               no : yes    =     13.7 : 1.0\n",
      "         contains(engag) = True              yes : no     =     13.0 : 1.0\n",
      "           contains(acn) = True               no : yes    =     12.3 : 1.0\n",
      "          contains(educ) = True              yes : no     =     11.7 : 1.0\n",
      "          contains(lazi) = True               no : yes    =     11.0 : 1.0\n",
      "          contains(oili) = True               no : yes    =     11.0 : 1.0\n",
      "       contains(central) = True              yes : no     =     11.0 : 1.0\n",
      "      contains(identifi) = True              yes : no     =      9.7 : 1.0\n",
      "         contains(cheek) = True               no : yes    =      9.7 : 1.0\n",
      "        contains(exfoli) = True               no : yes    =      9.7 : 1.0\n",
      "         contains(coach) = True              yes : no     =      9.7 : 1.0\n",
      "       contains(mascara) = True               no : yes    =      9.7 : 1.0\n",
      "        contains(routin) = True               no : yes    =      9.4 : 1.0\n",
      "        contains(hydrat) = True               no : yes    =      9.4 : 1.0\n",
      "       contains(gorgeou) = True               no : yes    =      9.0 : 1.0\n",
      "       contains(moistur) = True               no : yes    =      9.0 : 1.0\n",
      "      contains(lipstick) = True               no : yes    =      9.0 : 1.0\n",
      "        contains(studio) = True              yes : no     =      9.0 : 1.0\n",
      "       contains(ingredi) = True               no : yes    =      8.7 : 1.0\n"
     ]
    }
   ],
   "source": [
    "classifier.show_most_informative_features(20)"
   ]
  },
  {
   "cell_type": "code",
   "execution_count": 15,
   "metadata": {
    "collapsed": true
   },
   "outputs": [],
   "source": [
    "filename = 'sponView_classifier_stemmed.sav'\n",
    "pickle.dump(classifier, open(filename, 'wb'))"
   ]
  },
  {
   "cell_type": "code",
   "execution_count": 16,
   "metadata": {},
   "outputs": [
    {
     "data": {
      "text/plain": [
       "0.7567567567567568"
      ]
     },
     "execution_count": 16,
     "metadata": {},
     "output_type": "execute_result"
    }
   ],
   "source": [
    "test_feature_set = []\n",
    "for i in range(len(test)):\n",
    "    test_feature_set.append((document_features(test.captions.iloc[i], word_features), \n",
    "           test.sponsored.iloc[i]))\n",
    "    \n",
    "    \n",
    "nltk.classify.accuracy(classifier, test_feature_set)"
   ]
  },
  {
   "cell_type": "code",
   "execution_count": 17,
   "metadata": {
    "collapsed": true
   },
   "outputs": [],
   "source": [
    "classes_test_set = [classifier.classify(document_features(cap, word_features)) for cap in test.captions]"
   ]
  },
  {
   "cell_type": "code",
   "execution_count": 18,
   "metadata": {
    "collapsed": true
   },
   "outputs": [],
   "source": [
    "cnf_matrix = confusion_matrix(test.sponsored, classes_test_set, labels = [\"yes\", \"no\"])"
   ]
  },
  {
   "cell_type": "code",
   "execution_count": 19,
   "metadata": {},
   "outputs": [
    {
     "data": {
      "image/png": "[encoded data removed]",
      "text/plain": [
       "<matplotlib.figure.Figure at 0x1a1a575da0>"
      ]
     },
     "metadata": {},
     "output_type": "display_data"
    }
   ],
   "source": [
    "plt.figure()\n",
    "plot_confusion_matrix(cnf_matrix, classes=[\"yes\", \"no\"])\n",
    "plt.show()\n"
   ]
  },
  {
   "cell_type": "code",
   "execution_count": 20,
   "metadata": {
    "collapsed": true
   },
   "outputs": [],
   "source": [
    "prob_classes_test_set = [classifier.prob_classify(document_features(cap, word_features)) for cap in test.captions]"
   ]
  },
  {
   "cell_type": "code",
   "execution_count": 21,
   "metadata": {
    "collapsed": true
   },
   "outputs": [],
   "source": [
    "test_y_binary = preprocessing.label_binarize(test.sponsored, classes = ['no','yes'])\n",
    "test_y_binary = [y for x in test_y_binary for y in x]"
   ]
  },
  {
   "cell_type": "code",
   "execution_count": 22,
   "metadata": {
    "collapsed": true
   },
   "outputs": [],
   "source": [
    "prob_y_yes = [i.prob('yes') for i in prob_classes_test_set]"
   ]
  },
  {
   "cell_type": "code",
   "execution_count": 23,
   "metadata": {
    "collapsed": true
   },
   "outputs": [],
   "source": [
    "fpr, tpr, thresholds = roc_curve(test.sponsored, prob_y_yes, pos_label='yes')\n",
    "roc_auc = auc(fpr, tpr)"
   ]
  },
  {
   "cell_type": "code",
   "execution_count": 24,
   "metadata": {},
   "outputs": [
    {
     "data": {
      "image/png": "[encoded data removed]",
      "text/plain": [
       "<matplotlib.figure.Figure at 0x1a1a53f390>"
      ]
     },
     "metadata": {},
     "output_type": "display_data"
    }
   ],
   "source": [
    "plt.figure()\n",
    "lw = 2\n",
    "plt.plot(fpr, tpr, color='darkorange',\n",
    "         lw=lw, label='ROC curve (area = %0.2f)' % roc_auc)\n",
    "plt.plot([0, 1], [0, 1], color='navy', lw=lw, linestyle='--')\n",
    "plt.xlim([0.0, 1.0])\n",
    "plt.ylim([0.0, 1.05])\n",
    "plt.xlabel('False Positive Rate')\n",
    "plt.ylabel('True Positive Rate')\n",
    "plt.title('Receiver operating characteristic example')\n",
    "plt.legend(loc=\"lower right\")\n",
    "plt.show()"
   ]
  },
  {
   "cell_type": "markdown",
   "metadata": {
    "collapsed": true
   },
   "source": [
    "# tf-idf featurization"
   ]
  },
  {
   "cell_type": "code",
   "execution_count": 2,
   "metadata": {
    "collapsed": true
   },
   "outputs": [],
   "source": [
    "youtube_data = pd.read_pickle(\"youtube_captions_scraped_filterChannels.pickle\")"
   ]
  },
  {
   "cell_type": "code",
   "execution_count": 3,
   "metadata": {},
   "outputs": [
    {
     "data": {
      "text/plain": [
       "375"
      ]
     },
     "execution_count": 3,
     "metadata": {},
     "output_type": "execute_result"
    }
   ],
   "source": [
    "sum(np.array([i == 'no' for i in youtube_data.sponsored]))"
   ]
  },
  {
   "cell_type": "code",
   "execution_count": 4,
   "metadata": {
    "collapsed": true
   },
   "outputs": [],
   "source": [
    "sample_size = 300\n",
    "not_spon = [index for index, item in enumerate(youtube_data.sponsored) if item == 'no']\n",
    "not_spon_sample = random.sample(not_spon,sample_size)\n",
    "spon = [index for index, item in enumerate(youtube_data.sponsored) if item == 'yes']\n",
    "spon_sample = random.sample(spon,sample_size)"
   ]
  },
  {
   "cell_type": "code",
   "execution_count": 5,
   "metadata": {},
   "outputs": [
    {
     "name": "stdout",
     "output_type": "stream",
     "text": [
      "600\n"
     ]
    },
    {
     "data": {
      "text/html": [
       "<div>\n",
       "<style>\n",
       "    .dataframe thead tr:only-child th {\n",
       "        text-align: right;\n",
       "    }\n",
       "\n",
       "    .dataframe thead th {\n",
       "        text-align: left;\n",
       "    }\n",
       "\n",
       "    .dataframe tbody tr th {\n",
       "        vertical-align: top;\n",
       "    }\n",
       "</style>\n",
       "<table border=\"1\" class=\"dataframe\">\n",
       "  <thead>\n",
       "    <tr style=\"text-align: right;\">\n",
       "      <th></th>\n",
       "      <th>captions</th>\n",
       "      <th>sponsored</th>\n",
       "      <th>video_ids</th>\n",
       "      <th>channels</th>\n",
       "    </tr>\n",
       "  </thead>\n",
       "  <tbody>\n",
       "    <tr>\n",
       "      <th>279</th>\n",
       "      <td>yeah got a new fish here cutting yeah cut end ...</td>\n",
       "      <td>no</td>\n",
       "      <td>PcZ2jNPqVKY</td>\n",
       "      <td>Thomas Arnold</td>\n",
       "    </tr>\n",
       "    <tr>\n",
       "      <th>287</th>\n",
       "      <td>hi guys it's a girl Chris and welcome back to ...</td>\n",
       "      <td>no</td>\n",
       "      <td>WgQb94UIi3E</td>\n",
       "      <td>krislumagui</td>\n",
       "    </tr>\n",
       "    <tr>\n",
       "      <th>310</th>\n",
       "      <td>everyone okay look at this in the way this is ...</td>\n",
       "      <td>no</td>\n",
       "      <td>HQts7Xv-Y7k</td>\n",
       "      <td>Wayne Goss</td>\n",
       "    </tr>\n",
       "    <tr>\n",
       "      <th>285</th>\n",
       "      <td>[Music]   by little</td>\n",
       "      <td>no</td>\n",
       "      <td>phLQ4jCUfKI</td>\n",
       "      <td>YoItsPJO</td>\n",
       "    </tr>\n",
       "    <tr>\n",
       "      <th>398</th>\n",
       "      <td>The #notsponsored challenge is easy. Just laun...</td>\n",
       "      <td>no</td>\n",
       "      <td>rH8oKfJLP24</td>\n",
       "      <td>YEAY</td>\n",
       "    </tr>\n",
       "  </tbody>\n",
       "</table>\n",
       "</div>"
      ],
      "text/plain": [
       "                                              captions sponsored    video_ids  \\\n",
       "279  yeah got a new fish here cutting yeah cut end ...        no  PcZ2jNPqVKY   \n",
       "287  hi guys it's a girl Chris and welcome back to ...        no  WgQb94UIi3E   \n",
       "310  everyone okay look at this in the way this is ...        no  HQts7Xv-Y7k   \n",
       "285                               [Music]   by little         no  phLQ4jCUfKI   \n",
       "398  The #notsponsored challenge is easy. Just laun...        no  rH8oKfJLP24   \n",
       "\n",
       "          channels  \n",
       "279  Thomas Arnold  \n",
       "287    krislumagui  \n",
       "310     Wayne Goss  \n",
       "285       YoItsPJO  \n",
       "398           YEAY  "
      ]
     },
     "execution_count": 5,
     "metadata": {},
     "output_type": "execute_result"
    }
   ],
   "source": [
    "train = youtube_data.iloc[not_spon_sample + spon_sample, :]\n",
    "print(len(train))\n",
    "train.head()"
   ]
  },
  {
   "cell_type": "code",
   "execution_count": 6,
   "metadata": {
    "collapsed": true
   },
   "outputs": [],
   "source": [
    "spon_test =  list(set(spon) - set(spon_sample))\n",
    "not_spon_test =  list(set(not_spon) - set(not_spon_sample))"
   ]
  },
  {
   "cell_type": "code",
   "execution_count": 7,
   "metadata": {},
   "outputs": [
    {
     "data": {
      "text/plain": [
       "(141, 75)"
      ]
     },
     "execution_count": 7,
     "metadata": {},
     "output_type": "execute_result"
    }
   ],
   "source": [
    "len(spon_test), len(not_spon_test)"
   ]
  },
  {
   "cell_type": "code",
   "execution_count": 8,
   "metadata": {
    "collapsed": true
   },
   "outputs": [],
   "source": [
    "sample_size_test = 75\n",
    "\n",
    "not_spon_sample = random.sample(not_spon_test,sample_size_test)\n",
    "spon_sample = random.sample(spon_test,sample_size_test)\n",
    "\n",
    "test = youtube_data.iloc[not_spon_sample+ spon_sample, :]"
   ]
  },
  {
   "cell_type": "code",
   "execution_count": 9,
   "metadata": {},
   "outputs": [
    {
     "data": {
      "text/plain": [
       "150"
      ]
     },
     "execution_count": 9,
     "metadata": {},
     "output_type": "execute_result"
    }
   ],
   "source": [
    "len(test)"
   ]
  },
  {
   "cell_type": "markdown",
   "metadata": {},
   "source": [
    "# TFIDF"
   ]
  },
  {
   "cell_type": "code",
   "execution_count": 75,
   "metadata": {
    "collapsed": true
   },
   "outputs": [],
   "source": [
    "ps = PorterStemmer()\n",
    "\n",
    "def stem_tokens(tokens, ps):\n",
    "    \n",
    "    #remove numbers\n",
    "    tokens = [token for token in tokens if token.isalpha()]\n",
    "    #print(len(tokens))\n",
    "    \n",
    "    \n",
    "    #remove stop words\n",
    "    stop = stopwords.words('english') + list(string.punctuation)\n",
    "    tokens = [token for token in tokens if token not in stop]\n",
    "    #print(len(tokens))\n",
    "    \n",
    "    \n",
    "    # stem\n",
    "    stemmed = []\n",
    "    for item in tokens:\n",
    "        stemmed.append(ps.stem(item))\n",
    "    return stemmed\n",
    "\n",
    "def stemmedCaption(text):\n",
    "    text = text.lower()\n",
    "    tokens = nltk.word_tokenize(text)\n",
    "    stems = stem_tokens(tokens, ps)\n",
    "    return ' '.join(stems)\n"
   ]
  },
  {
   "cell_type": "code",
   "execution_count": 103,
   "metadata": {
    "collapsed": true
   },
   "outputs": [],
   "source": [
    "stemmed = [stemmedCaption(i) for i in train.captions]"
   ]
  },
  {
   "cell_type": "code",
   "execution_count": 104,
   "metadata": {},
   "outputs": [
    {
     "data": {
      "text/plain": [
       "'everyon okay look way skincar routin lot ask decid film everyth seen video exact skincar routin mine therefor result get base upon product use skin differ bear mind put link product descript bar plu cheaper altern let make start cleanser first cleanser use polish choic clear pour normal cleanser one like realli nice skin still get breakout despit flatman approach soon still get breakout cleanser like strict skin irrit everi day twice day tote skin oh way noth video alway sponsor paid sent stuff know okay toner use twice day paula choic skin balanc cleanser normal oili combin skin twice day morn night use go see lot paula choic reason use year alway favorit love compani love product alway skin problemat paula choic good exfoli twice day chemic scrub rub skin irrit caus breakout bump morn even depend feel use clear anti red solut one use extra strength night morn depend feel use resist new one use brand new use h resist advanc smooth altern bha aj one exfoli poor pha chain exfoli surfac night use retinol product use two differ one ultim monday use one tuesday use go back forth neostrata call renew cream retinol product ph use altern night use clinic retinol treatment strong strong start twice week build realli realli strong week exfoli incred well use drunk eleph babi facial tlc babi facial realli realli good product ordinari mention go make amaz amaz product agre skin truli phenomen review outstand highli recommend product cheaper altern need three time week use ordinari use power poic acid use three time week strong amaz even skin tone use never found anyth better holi grail eye cream use charlott tilburi magic eye rescu everyth charlott tilburi sign magic hollywood someth use realli realli nice realli hydrat nearli forti mean hydrat eye sunscreen last thing put two use connect spf miner sunscreen bodi appli face bodi one get email price new thank ingredi would use bodi last day use one point someth mil everi day use trunk eleph sheer physic defens anoth reason use bloodi big use use mil sunscreen go last exactli one month go cost pound pound yeah go entir routin coupl time week might use face mask go use neon mud forgot name gon na move get come bathroom flour mud believ call amaz rins bright red rins tingl thing slightli great mess use paula choic charcoal mask realli realli good product use mine sponsor sent mine paid hope made clear know peopl dress choos line know pretti much use polish choic use ordinari drunk eleph run would use ordinari got percent percent exact version basic bit differ use far oil go absolut use oil use know go use vintag thought one one gon na hate price outrag expens use end appli retinol good show bottl want week absolut still skincar basic skincar see stuff multipl come run atmospher say use use skincar inform foot afford altern well see soon bye'"
      ]
     },
     "execution_count": 104,
     "metadata": {},
     "output_type": "execute_result"
    }
   ],
   "source": [
    "stemmed[2]"
   ]
  },
  {
   "cell_type": "code",
   "execution_count": 105,
   "metadata": {},
   "outputs": [
    {
     "data": {
      "text/plain": [
       "600"
      ]
     },
     "execution_count": 105,
     "metadata": {},
     "output_type": "execute_result"
    }
   ],
   "source": [
    "len(stemmed)"
   ]
  },
  {
   "cell_type": "code",
   "execution_count": 106,
   "metadata": {},
   "outputs": [
    {
     "name": "stderr",
     "output_type": "stream",
     "text": [
      "/anaconda3/lib/python3.6/site-packages/ipykernel_launcher.py:1: SettingWithCopyWarning: \n",
      "A value is trying to be set on a copy of a slice from a DataFrame.\n",
      "Try using .loc[row_indexer,col_indexer] = value instead\n",
      "\n",
      "See the caveats in the documentation: http://pandas.pydata.org/pandas-docs/stable/indexing.html#indexing-view-versus-copy\n",
      "  \"\"\"Entry point for launching an IPython kernel.\n"
     ]
    }
   ],
   "source": [
    "train['captions_stemmed'] = stemmed"
   ]
  },
  {
   "cell_type": "code",
   "execution_count": 115,
   "metadata": {
    "collapsed": true
   },
   "outputs": [],
   "source": [
    "feature_extraction = TfidfVectorizer(stop_words='english', lowercase = True)"
   ]
  },
  {
   "cell_type": "code",
   "execution_count": 116,
   "metadata": {},
   "outputs": [
    {
     "data": {
      "text/plain": [
       "TfidfVectorizer(analyzer='word', binary=False, decode_error='strict',\n",
       "        dtype=<class 'numpy.int64'>, encoding='utf-8', input='content',\n",
       "        lowercase=True, max_df=1.0, max_features=None, min_df=1,\n",
       "        ngram_range=(1, 1), norm='l2', preprocessor=None, smooth_idf=True,\n",
       "        stop_words='english', strip_accents=None, sublinear_tf=False,\n",
       "        token_pattern='(?u)\\\\b\\\\w\\\\w+\\\\b', tokenizer=None, use_idf=True,\n",
       "        vocabulary=None)"
      ]
     },
     "execution_count": 116,
     "metadata": {},
     "output_type": "execute_result"
    }
   ],
   "source": [
    "feature_extraction"
   ]
  },
  {
   "cell_type": "code",
   "execution_count": 117,
   "metadata": {
    "collapsed": true
   },
   "outputs": [],
   "source": [
    "X_train = feature_extraction.fit_transform(train.captions_stemmed)"
   ]
  },
  {
   "cell_type": "code",
   "execution_count": 119,
   "metadata": {
    "collapsed": true
   },
   "outputs": [],
   "source": [
    "filename = 'feature_extraction.sav'\n",
    "pickle.dump(feature_extraction, open(filename, 'wb'))"
   ]
  },
  {
   "cell_type": "code",
   "execution_count": 110,
   "metadata": {},
   "outputs": [
    {
     "name": "stdout",
     "output_type": "stream",
     "text": [
      "(600, 15690)\n"
     ]
    }
   ],
   "source": [
    "print(X_train.shape)"
   ]
  },
  {
   "cell_type": "code",
   "execution_count": 111,
   "metadata": {
    "collapsed": true
   },
   "outputs": [],
   "source": [
    "stemmed_test = [stemmedCaption(i) for i in test.captions]"
   ]
  },
  {
   "cell_type": "code",
   "execution_count": 112,
   "metadata": {},
   "outputs": [
    {
     "name": "stdout",
     "output_type": "stream",
     "text": [
      "(150, 15690)\n"
     ]
    }
   ],
   "source": [
    "X_test = feature_extraction.transform(stemmed_test)\n",
    "print(X_test.shape)"
   ]
  },
  {
   "cell_type": "code",
   "execution_count": 120,
   "metadata": {
    "collapsed": true
   },
   "outputs": [],
   "source": [
    "Y_train = train.sponsored\n",
    "Y_test = test.sponsored"
   ]
  },
  {
   "cell_type": "code",
   "execution_count": 121,
   "metadata": {
    "collapsed": true
   },
   "outputs": [],
   "source": [
    "##### yes = 1, no = 2\n",
    "test_y_binary = preprocessing.label_binarize(test.sponsored, classes = ['no','yes'])\n",
    "test_y_binary = [y for x in test_y_binary for y in x]\n",
    "train_y_binary = preprocessing.label_binarize(train.sponsored, classes = ['no','yes'])\n",
    "train_y_binary = [y for x in train_y_binary for y in x]"
   ]
  },
  {
   "cell_type": "code",
   "execution_count": 122,
   "metadata": {
    "collapsed": true
   },
   "outputs": [],
   "source": [
    "#print(list(zip(test_y_binary, Y_test)))\n",
    "#print(list(zip(train_y_binary, Y_train)))"
   ]
  },
  {
   "cell_type": "code",
   "execution_count": 123,
   "metadata": {
    "collapsed": true
   },
   "outputs": [],
   "source": [
    "y_train = np.ravel(train_y_binary) ### yes = 1\n",
    "y_test = np.ravel(test_y_binary)"
   ]
  },
  {
   "cell_type": "markdown",
   "metadata": {},
   "source": [
    "## tf-idf SVM"
   ]
  },
  {
   "cell_type": "code",
   "execution_count": 124,
   "metadata": {},
   "outputs": [
    {
     "data": {
      "text/plain": [
       "SVC(C=1.0, cache_size=200, class_weight=None, coef0=0.0,\n",
       "  decision_function_shape='ovr', degree=3, gamma='auto', kernel='linear',\n",
       "  max_iter=-1, probability=True, random_state=None, shrinking=True,\n",
       "  tol=0.001, verbose=False)"
      ]
     },
     "execution_count": 124,
     "metadata": {},
     "output_type": "execute_result"
    }
   ],
   "source": [
    "# train classifier\n",
    "clf = SVC(probability=True, kernel='linear')\n",
    "clf.fit(X_train, Y_train)\n",
    "\n"
   ]
  },
  {
   "cell_type": "code",
   "execution_count": 125,
   "metadata": {
    "collapsed": true
   },
   "outputs": [],
   "source": [
    "filename = 'svc_classifier.sav'\n",
    "pickle.dump(clf, open(filename, 'wb'))"
   ]
  },
  {
   "cell_type": "code",
   "execution_count": 90,
   "metadata": {},
   "outputs": [
    {
     "data": {
      "text/plain": [
       "array([[ 0.84225562,  0.15774438],\n",
       "       [ 0.25908297,  0.74091703],\n",
       "       [ 0.24068446,  0.75931554],\n",
       "       [ 0.94681456,  0.05318544],\n",
       "       [ 0.81898024,  0.18101976]])"
      ]
     },
     "execution_count": 90,
     "metadata": {},
     "output_type": "execute_result"
    }
   ],
   "source": [
    "# predict and evaluate predictions\n",
    "predictions_prob = clf.predict_proba(X_test)\n",
    "predictions_prob[:5]"
   ]
  },
  {
   "cell_type": "code",
   "execution_count": 144,
   "metadata": {},
   "outputs": [
    {
     "data": {
      "text/plain": [
       "'72.78'"
      ]
     },
     "execution_count": 144,
     "metadata": {},
     "output_type": "execute_result"
    }
   ],
   "source": [
    "# predict and evaluate predictions\n",
    "predictions_prob = clf.predict_proba(X_test[1,:])\n",
    "'%.2f' % (predictions_prob.ravel()[1] * 100)"
   ]
  },
  {
   "cell_type": "code",
   "execution_count": 91,
   "metadata": {},
   "outputs": [
    {
     "data": {
      "text/plain": [
       "array(['no', 'yes'], dtype=object)"
      ]
     },
     "execution_count": 91,
     "metadata": {},
     "output_type": "execute_result"
    }
   ],
   "source": [
    "clf.classes_"
   ]
  },
  {
   "cell_type": "code",
   "execution_count": 92,
   "metadata": {},
   "outputs": [
    {
     "data": {
      "text/plain": [
       "[('no', 'no'), ('no', 'yes'), ('no', 'yes'), ('no', 'no'), ('no', 'no')]"
      ]
     },
     "execution_count": 92,
     "metadata": {},
     "output_type": "execute_result"
    }
   ],
   "source": [
    "# predict and evaluate predictions\n",
    "predictions = clf.predict(X_test)\n",
    "list(zip(Y_test, predictions))[:5]"
   ]
  },
  {
   "cell_type": "code",
   "execution_count": 93,
   "metadata": {
    "scrolled": true
   },
   "outputs": [
    {
     "data": {
      "image/png": "[encoded data removed]",
      "text/plain": [
       "<matplotlib.figure.Figure at 0x1a0b972898>"
      ]
     },
     "metadata": {},
     "output_type": "display_data"
    }
   ],
   "source": [
    "cnf_matrix = confusion_matrix(Y_test, predictions, labels = ['no','yes'])\n",
    "plt.figure()\n",
    "plot_confusion_matrix(cnf_matrix, classes=['no','yes'])\n",
    "plt.show()"
   ]
  },
  {
   "cell_type": "code",
   "execution_count": 94,
   "metadata": {},
   "outputs": [
    {
     "data": {
      "text/plain": [
       "150"
      ]
     },
     "execution_count": 94,
     "metadata": {},
     "output_type": "execute_result"
    }
   ],
   "source": [
    "len(predictions_prob )"
   ]
  },
  {
   "cell_type": "code",
   "execution_count": 95,
   "metadata": {},
   "outputs": [
    {
     "data": {
      "image/png": "[encoded data removed]",
      "text/plain": [
       "<matplotlib.figure.Figure at 0x101291048>"
      ]
     },
     "metadata": {},
     "output_type": "display_data"
    }
   ],
   "source": [
    "# Compute fpr, tpr, thresholds and roc auc\n",
    "fpr, tpr, thresholds = roc_curve(test_y_binary, predictions_prob[:,1])\n",
    "roc_auc = auc(fpr, tpr)\n",
    "\n",
    "# Plot ROC curve\n",
    "plt.plot(fpr, tpr, label='ROC curve (area = %0.3f)' % roc_auc)\n",
    "plt.plot([0, 1], [0, 1], 'k--')  # random predictions curve\n",
    "plt.xlim([-0.1, 1.1])\n",
    "plt.ylim([-0.1, 1.1])\n",
    "plt.xlabel('False Positive Rate or (1 - Specifity)')\n",
    "plt.ylabel('True Positive Rate or (Sensitivity)')\n",
    "plt.title('Receiver Operating Characteristic')\n",
    "plt.legend(loc=\"lower right\")\n",
    "plt.show()"
   ]
  },
  {
   "cell_type": "code",
   "execution_count": 1,
   "metadata": {},
   "outputs": [
    {
     "ename": "NameError",
     "evalue": "name 'clf' is not defined",
     "output_type": "error",
     "traceback": [
      "\u001b[0;31m---------------------------------------------------------------------------\u001b[0m",
      "\u001b[0;31mNameError\u001b[0m                                 Traceback (most recent call last)",
      "\u001b[0;32m<ipython-input-1-81e3e7b4046b>\u001b[0m in \u001b[0;36m<module>\u001b[0;34m()\u001b[0m\n\u001b[1;32m     12\u001b[0m  \u001b[0mplt\u001b[0m\u001b[0;34m.\u001b[0m\u001b[0mshow\u001b[0m\u001b[0;34m(\u001b[0m\u001b[0;34m)\u001b[0m\u001b[0;34m\u001b[0m\u001b[0m\n\u001b[1;32m     13\u001b[0m \u001b[0;34m\u001b[0m\u001b[0m\n\u001b[0;32m---> 14\u001b[0;31m \u001b[0mplot_coefficients\u001b[0m\u001b[0;34m(\u001b[0m\u001b[0mclf\u001b[0m\u001b[0;34m,\u001b[0m \u001b[0mfeature_extraction\u001b[0m\u001b[0;34m.\u001b[0m\u001b[0mget_feature_names\u001b[0m\u001b[0;34m(\u001b[0m\u001b[0;34m)\u001b[0m\u001b[0;34m,\u001b[0m \u001b[0mtop_features\u001b[0m \u001b[0;34m=\u001b[0m \u001b[0;36m40\u001b[0m\u001b[0;34m)\u001b[0m\u001b[0;34m\u001b[0m\u001b[0m\n\u001b[0m",
      "\u001b[0;31mNameError\u001b[0m: name 'clf' is not defined"
     ]
    }
   ],
   "source": [
    "def plot_coefficients(classifier, feature_names, top_features=20):\n",
    " coef = clf.coef_.toarray().ravel()\n",
    " top_positive_coefficients = np.argsort(coef)[-top_features:]\n",
    " top_negative_coefficients = np.argsort(coef)[:top_features]\n",
    " top_coefficients = np.hstack([top_negative_coefficients, top_positive_coefficients])\n",
    " # create plot\n",
    " plt.figure(figsize=(15, 5))\n",
    " colors = ['red' if c < 0 else 'blue' for c in coef[top_coefficients]]\n",
    " plt.bar(np.arange(2 * top_features), coef[top_coefficients], color=colors)\n",
    " feature_names = np.array(feature_names)\n",
    " plt.xticks(np.arange(0, 1 + 2 * top_features-1), feature_names[top_coefficients], rotation=60, ha='right')\n",
    " plt.show()\n",
    "\n",
    "plot_coefficients(clf, feature_extraction.get_feature_names(), top_features = 25)"
   ]
  },
  {
   "cell_type": "code",
   "execution_count": 98,
   "metadata": {},
   "outputs": [
    {
     "data": {
      "text/plain": [
       "'no'"
      ]
     },
     "execution_count": 98,
     "metadata": {},
     "output_type": "execute_result"
    }
   ],
   "source": [
    "clf.predict(X_test[0,:])[0]"
   ]
  },
  {
   "cell_type": "code",
   "execution_count": 30,
   "metadata": {},
   "outputs": [
    {
     "data": {
      "text/plain": [
       "<bound method TfidfVectorizer.fit_transform of TfidfVectorizer(analyzer='word', binary=False, decode_error='strict',\n",
       "        dtype=<class 'numpy.int64'>, encoding='utf-8', input='content',\n",
       "        lowercase=True, max_df=1.0, max_features=None, min_df=1,\n",
       "        ngram_range=(1, 1), norm='l2', preprocessor=None, smooth_idf=True,\n",
       "        stop_words='english', strip_accents=None, sublinear_tf=False,\n",
       "        token_pattern='(?u)\\\\b\\\\w\\\\w+\\\\b',\n",
       "        tokenizer=<function tokenize at 0x1a0a9a6c80>, use_idf=True,\n",
       "        vocabulary=None)>"
      ]
     },
     "execution_count": 30,
     "metadata": {},
     "output_type": "execute_result"
    }
   ],
   "source": [
    "feature_extraction_transform"
   ]
  },
  {
   "cell_type": "markdown",
   "metadata": {},
   "source": [
    "## tf-idf Naive Bayes"
   ]
  },
  {
   "cell_type": "code",
   "execution_count": 119,
   "metadata": {},
   "outputs": [
    {
     "data": {
      "text/plain": [
       "GaussianNB(priors=None)"
      ]
     },
     "execution_count": 119,
     "metadata": {},
     "output_type": "execute_result"
    }
   ],
   "source": [
    "bernNB = BernoulliNB()\n",
    "gausNB = GaussianNB()\n",
    "\n",
    "bernNB.fit(X_train.toarray(), Y_train)\n",
    "gausNB.fit(X_train.toarray(), Y_train)"
   ]
  },
  {
   "cell_type": "code",
   "execution_count": 120,
   "metadata": {},
   "outputs": [
    {
     "name": "stdout",
     "output_type": "stream",
     "text": [
      "[('no', 0.0, 'no'), ('no', 0.0, 'no'), ('no', 0.0, 'no'), ('no', 0.0, 'no'), ('no', 0.0, 'no')]\n"
     ]
    }
   ],
   "source": [
    "predictions_prob_bNB = bernNB.predict_proba(X_test)\n",
    "predictions_bNB = bernNB.predict(X_test)\n",
    "print(list(zip(Y_test,predictions_prob_bNB[:,1].round(3), predictions_bNB))[:5])"
   ]
  },
  {
   "cell_type": "code",
   "execution_count": 121,
   "metadata": {},
   "outputs": [
    {
     "data": {
      "image/png": "[encoded data removed]",
      "text/plain": [
       "<matplotlib.figure.Figure at 0x1a514a3668>"
      ]
     },
     "metadata": {},
     "output_type": "display_data"
    }
   ],
   "source": [
    "# Compute fpr, tpr, thresholds and roc auc\n",
    "fpr, tpr, thresholds = roc_curve(test_y_binary, predictions_prob_bNB[:,1])\n",
    "roc_auc = auc(fpr, tpr)\n",
    "\n",
    "# Plot ROC curve\n",
    "plt.plot(fpr, tpr, label='ROC curve (area = %0.3f)' % roc_auc)\n",
    "plt.plot([0, 1], [0, 1], 'k--')  # random predictions curve\n",
    "plt.xlim([-0.1, 1.1])\n",
    "plt.ylim([-0.1, 1.1])\n",
    "plt.xlabel('False Positive Rate or (1 - Specifity)')\n",
    "plt.ylabel('True Positive Rate or (Sensitivity)')\n",
    "plt.title('Receiver Operating Characteristic')\n",
    "plt.legend(loc=\"lower right\")\n",
    "plt.show()"
   ]
  },
  {
   "cell_type": "code",
   "execution_count": 122,
   "metadata": {},
   "outputs": [
    {
     "data": {
      "image/png": "[encoded data removed]",
      "text/plain": [
       "<matplotlib.figure.Figure at 0x1a51b0fc50>"
      ]
     },
     "metadata": {},
     "output_type": "display_data"
    }
   ],
   "source": [
    "cnf_matrix = confusion_matrix(Y_test, predictions_bNB, labels = ['no','yes'])\n",
    "plt.figure()\n",
    "plot_confusion_matrix(cnf_matrix, classes=['no','yes'])\n",
    "plt.show()"
   ]
  },
  {
   "cell_type": "code",
   "execution_count": 123,
   "metadata": {},
   "outputs": [
    {
     "name": "stdout",
     "output_type": "stream",
     "text": [
      "[('no', 0.0, 'no'), ('no', 0.0, 'no'), ('no', 0.0, 'no'), ('no', 0.0, 'no'), ('no', 0.0, 'no')]\n"
     ]
    }
   ],
   "source": [
    "predictions_prob_gNB = gausNB.predict_proba(X_test.toarray())\n",
    "predictions_gNB = gausNB.predict(X_test.toarray())\n",
    "print(list(zip(Y_test,predictions_prob_gNB[:,1], predictions_gNB))[:5])"
   ]
  },
  {
   "cell_type": "code",
   "execution_count": 124,
   "metadata": {},
   "outputs": [
    {
     "data": {
      "image/png": "[encoded data removed]",
      "text/plain": [
       "<matplotlib.figure.Figure at 0x10df4ba20>"
      ]
     },
     "metadata": {},
     "output_type": "display_data"
    }
   ],
   "source": [
    "# Compute fpr, tpr, thresholds and roc auc\n",
    "fpr, tpr, thresholds = roc_curve(Y_test, predictions_prob_gNB[:,1], pos_label='yes')\n",
    "roc_auc = auc(fpr, tpr)\n",
    "\n",
    "# Plot ROC curve\n",
    "plt.plot(fpr, tpr, label='ROC curve (area = %0.3f)' % roc_auc)\n",
    "plt.plot([0, 1], [0, 1], 'k--')  # random predictions curve\n",
    "plt.xlim([-0.1, 1.1])\n",
    "plt.ylim([-0.1, 1.1])\n",
    "plt.xlabel('False Positive Rate or (1 - Specifity)')\n",
    "plt.ylabel('True Positive Rate or (Sensitivity)')\n",
    "plt.title('Receiver Operating Characteristic')\n",
    "plt.legend(loc=\"lower right\")\n",
    "plt.show()"
   ]
  },
  {
   "cell_type": "code",
   "execution_count": 125,
   "metadata": {},
   "outputs": [
    {
     "data": {
      "image/png": "[encoded data removed]",
      "text/plain": [
       "<matplotlib.figure.Figure at 0x1a51a68da0>"
      ]
     },
     "metadata": {},
     "output_type": "display_data"
    }
   ],
   "source": [
    "cnf_matrix = confusion_matrix(Y_test, predictions_gNB, labels = ['no','yes'])\n",
    "plt.figure()\n",
    "plot_confusion_matrix(cnf_matrix, classes=['no','yes'])\n",
    "plt.show()"
   ]
  },
  {
   "cell_type": "code",
   "execution_count": 126,
   "metadata": {
    "collapsed": true
   },
   "outputs": [],
   "source": []
  },
  {
   "cell_type": "code",
   "execution_count": null,
   "metadata": {
    "collapsed": true
   },
   "outputs": [],
   "source": []
  },
  {
   "cell_type": "code",
   "execution_count": null,
   "metadata": {
    "collapsed": true
   },
   "outputs": [],
   "source": []
  }
 ],
 "metadata": {
  "kernelspec": {
   "display_name": "Python 3",
   "language": "python",
   "name": "python3"
  },
  "language_info": {
   "codemirror_mode": {
    "name": "ipython",
    "version": 3
   },
   "file_extension": ".py",
   "mimetype": "text/x-python",
   "name": "python",
   "nbconvert_exporter": "python",
   "pygments_lexer": "ipython3",
   "version": "3.6.3"
  }
 },
 "nbformat": 4,
 "nbformat_minor": 2
}
