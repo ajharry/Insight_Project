{
 "cells": [
  {
   "cell_type": "code",
   "execution_count": 119,
   "metadata": {
    "collapsed": true
   },
   "outputs": [],
   "source": [
    "from nltk.tokenize import word_tokenize # or use some other tokenizer\n",
    "from nltk.corpus import stopwords\n",
    "\n",
    "from sklearn import svm, datasets, preprocessing\n",
    "from sklearn.feature_extraction.text import CountVectorizer, TfidfVectorizer\n",
    "from sklearn.svm import SVC\n",
    "from sklearn.metrics import roc_auc_score, confusion_matrix, roc_curve, auc\n",
    "from sklearn.model_selection import train_test_split\n",
    "from sklearn.naive_bayes import GaussianNB, BernoulliNB\n",
    "\n",
    "from datetime import date\n",
    "\n",
    "import string\n",
    "import random\n",
    "import nltk\n",
    "import pickle\n",
    "import itertools\n",
    "\n",
    "\n",
    "import pandas as pd\n",
    "import numpy as np\n",
    "import matplotlib.pyplot as plt\n",
    "\n",
    "\n",
    "\n",
    "\n",
    "def document_features(document):\n",
    "    document_words = document.split()\n",
    "    features = {}\n",
    "    for word in word_features:\n",
    "        features['contains({})'.format(word)] = (word in document_words)\n",
    "    return features\n",
    "\n",
    "def plot_confusion_matrix(cm, classes,\n",
    "                          normalize=False,\n",
    "                          title='Confusion matrix',\n",
    "                          cmap=plt.cm.Blues):\n",
    "\n",
    "    plt.imshow(cm, interpolation='nearest', cmap=cmap)\n",
    "    plt.title(title)\n",
    "    plt.colorbar()\n",
    "    tick_marks = np.arange(len(classes))\n",
    "    plt.xticks(tick_marks, classes, rotation=45)\n",
    "    plt.yticks(tick_marks, classes)\n",
    "\n",
    "    fmt = '.2f' if normalize else 'd'\n",
    "    thresh = cm.max() / 2.\n",
    "    for i, j in itertools.product(range(cm.shape[0]), range(cm.shape[1])):\n",
    "        plt.text(j, i, format(cm[i, j], fmt),\n",
    "                 horizontalalignment=\"center\",\n",
    "                 color=\"white\" if cm[i, j] > thresh else \"black\")\n",
    "\n",
    "    plt.tight_layout()\n",
    "    plt.ylabel('True label')\n",
    "    plt.xlabel('Predicted label')"
   ]
  },
  {
   "cell_type": "code",
   "execution_count": 3,
   "metadata": {
    "collapsed": true
   },
   "outputs": [],
   "source": [
    "youtube_data = pd.read_pickle(\"sponAndNotYoutube_scrape.pickle\")"
   ]
  },
  {
   "cell_type": "code",
   "execution_count": 4,
   "metadata": {
    "collapsed": true
   },
   "outputs": [],
   "source": [
    "sample_size = 50\n",
    "not_spon = [index for index, item in enumerate(youtube_data.sponsored) if item == 'no']\n",
    "not_spon_sample = random.sample(not_spon,sample_size)\n",
    "spon = [index for index, item in enumerate(youtube_data.sponsored) if item == 'yes']\n",
    "spon_sample = random.sample(spon,sample_size)"
   ]
  },
  {
   "cell_type": "code",
   "execution_count": 5,
   "metadata": {},
   "outputs": [
    {
     "data": {
      "text/html": [
       "<div>\n",
       "<style>\n",
       "    .dataframe thead tr:only-child th {\n",
       "        text-align: right;\n",
       "    }\n",
       "\n",
       "    .dataframe thead th {\n",
       "        text-align: left;\n",
       "    }\n",
       "\n",
       "    .dataframe tbody tr th {\n",
       "        vertical-align: top;\n",
       "    }\n",
       "</style>\n",
       "<table border=\"1\" class=\"dataframe\">\n",
       "  <thead>\n",
       "    <tr style=\"text-align: right;\">\n",
       "      <th></th>\n",
       "      <th>channel</th>\n",
       "      <th>title</th>\n",
       "      <th>video_id</th>\n",
       "      <th>description</th>\n",
       "      <th>caption</th>\n",
       "      <th>fullCaptions</th>\n",
       "      <th>sponsored</th>\n",
       "    </tr>\n",
       "  </thead>\n",
       "  <tbody>\n",
       "    <tr>\n",
       "      <th>188</th>\n",
       "      <td>Rosy JulieBC</td>\n",
       "      <td>Substance Natural Sunscreen Review on Sensitiv...</td>\n",
       "      <td>a4zWI3k_9GI</td>\n",
       "      <td>Here's what I thought of Substance natural sun...</td>\n",
       "      <td>1\\n00:00:10,250 --&gt; 00:00:15,269\\nhi Rosie fri...</td>\n",
       "      <td>hi Rosie friends it's Julie and today I'm goin...</td>\n",
       "      <td>no</td>\n",
       "    </tr>\n",
       "    <tr>\n",
       "      <th>428</th>\n",
       "      <td>crocman132</td>\n",
       "      <td>BEST GAME SITE EVER! | BARBIE GAMES! (Not spon...</td>\n",
       "      <td>zCPi46FWqq8</td>\n",
       "      <td>►I GOT BORED SO I DECIDED TO PLAY BARBIE GAMES...</td>\n",
       "      <td>1\\n00:00:00,270 --&gt; 00:00:03,620\\n[Music]\\n\\n2...</td>\n",
       "      <td>[Music] hello everybody crackdown 132 here bac...</td>\n",
       "      <td>no</td>\n",
       "    </tr>\n",
       "    <tr>\n",
       "      <th>18</th>\n",
       "      <td>QueenDebbie</td>\n",
       "      <td>WTF FASHION NOVA | MY EXPERIENCE *NOT SPONSORED*</td>\n",
       "      <td>zYb_n4MP2oI</td>\n",
       "      <td>COMMENT,LIKE ,AN SUBSCRIBE\\n------------------...</td>\n",
       "      <td>1\\n00:00:01,060 --&gt; 00:00:05,890\\n[Music]\\n\\n2...</td>\n",
       "      <td>[Music] to provide you with an amazing challen...</td>\n",
       "      <td>no</td>\n",
       "    </tr>\n",
       "    <tr>\n",
       "      <th>32</th>\n",
       "      <td>fit_geo</td>\n",
       "      <td>NOT Sponsored Gymshark Haul &amp; Review With Meas...</td>\n",
       "      <td>ci-R2CnyDpo</td>\n",
       "      <td>Hey guys! Finally figuring out some of this ed...</td>\n",
       "      <td>1\\n00:00:00,860 --&gt; 00:00:09,389\\nwhat's up gu...</td>\n",
       "      <td>what's up guys so I got a super huge kind of u...</td>\n",
       "      <td>no</td>\n",
       "    </tr>\n",
       "    <tr>\n",
       "      <th>233</th>\n",
       "      <td>Rosy JulieBC</td>\n",
       "      <td>Rosacea Friendly Smoothie Recipe (not sponsore...</td>\n",
       "      <td>VmsMYFSGC7g</td>\n",
       "      <td>This recipe is packed with anti-inflammatory i...</td>\n",
       "      <td>1\\n00:00:08,300 --&gt; 00:00:12,090\\npussy friend...</td>\n",
       "      <td>pussy friends it's Julie and today's video it'...</td>\n",
       "      <td>no</td>\n",
       "    </tr>\n",
       "  </tbody>\n",
       "</table>\n",
       "</div>"
      ],
      "text/plain": [
       "          channel                                              title  \\\n",
       "188  Rosy JulieBC  Substance Natural Sunscreen Review on Sensitiv...   \n",
       "428    crocman132  BEST GAME SITE EVER! | BARBIE GAMES! (Not spon...   \n",
       "18    QueenDebbie   WTF FASHION NOVA | MY EXPERIENCE *NOT SPONSORED*   \n",
       "32        fit_geo  NOT Sponsored Gymshark Haul & Review With Meas...   \n",
       "233  Rosy JulieBC  Rosacea Friendly Smoothie Recipe (not sponsore...   \n",
       "\n",
       "        video_id                                        description  \\\n",
       "188  a4zWI3k_9GI  Here's what I thought of Substance natural sun...   \n",
       "428  zCPi46FWqq8  ►I GOT BORED SO I DECIDED TO PLAY BARBIE GAMES...   \n",
       "18   zYb_n4MP2oI  COMMENT,LIKE ,AN SUBSCRIBE\\n------------------...   \n",
       "32   ci-R2CnyDpo  Hey guys! Finally figuring out some of this ed...   \n",
       "233  VmsMYFSGC7g  This recipe is packed with anti-inflammatory i...   \n",
       "\n",
       "                                               caption  \\\n",
       "188  1\\n00:00:10,250 --> 00:00:15,269\\nhi Rosie fri...   \n",
       "428  1\\n00:00:00,270 --> 00:00:03,620\\n[Music]\\n\\n2...   \n",
       "18   1\\n00:00:01,060 --> 00:00:05,890\\n[Music]\\n\\n2...   \n",
       "32   1\\n00:00:00,860 --> 00:00:09,389\\nwhat's up gu...   \n",
       "233  1\\n00:00:08,300 --> 00:00:12,090\\npussy friend...   \n",
       "\n",
       "                                          fullCaptions sponsored  \n",
       "188  hi Rosie friends it's Julie and today I'm goin...        no  \n",
       "428  [Music] hello everybody crackdown 132 here bac...        no  \n",
       "18   [Music] to provide you with an amazing challen...        no  \n",
       "32   what's up guys so I got a super huge kind of u...        no  \n",
       "233  pussy friends it's Julie and today's video it'...        no  "
      ]
     },
     "execution_count": 5,
     "metadata": {},
     "output_type": "execute_result"
    }
   ],
   "source": [
    "train = youtube_data.iloc[not_spon_sample + spon_sample, :]\n",
    "train.head()"
   ]
  },
  {
   "cell_type": "code",
   "execution_count": 6,
   "metadata": {},
   "outputs": [
    {
     "name": "stdout",
     "output_type": "stream",
     "text": [
      "10\n",
      "10\n"
     ]
    }
   ],
   "source": [
    "spon_test =  random.sample(list(set(spon) - set(spon_sample)),10)\n",
    "not_spon_test =  random.sample(list(set(not_spon) - set(not_spon_sample)),10)\n",
    "test = youtube_data.iloc[not_spon_test + spon_test, :]"
   ]
  },
  {
   "cell_type": "markdown",
   "metadata": {},
   "source": [
    "# tokenized features Naive Bayes"
   ]
  },
  {
   "cell_type": "code",
   "execution_count": 187,
   "metadata": {
    "collapsed": true
   },
   "outputs": [],
   "source": [
    "stop = stopwords.words('english') + list(string.punctuation)"
   ]
  },
  {
   "cell_type": "code",
   "execution_count": 188,
   "metadata": {},
   "outputs": [
    {
     "data": {
      "text/plain": [
       "['i',\n",
       " 'me',\n",
       " 'my',\n",
       " 'myself',\n",
       " 'we',\n",
       " 'our',\n",
       " 'ours',\n",
       " 'ourselves',\n",
       " 'you',\n",
       " \"you're\",\n",
       " \"you've\",\n",
       " \"you'll\",\n",
       " \"you'd\",\n",
       " 'your',\n",
       " 'yours',\n",
       " 'yourself',\n",
       " 'yourselves',\n",
       " 'he',\n",
       " 'him',\n",
       " 'his',\n",
       " 'himself',\n",
       " 'she',\n",
       " \"she's\",\n",
       " 'her',\n",
       " 'hers',\n",
       " 'herself',\n",
       " 'it',\n",
       " \"it's\",\n",
       " 'its',\n",
       " 'itself',\n",
       " 'they',\n",
       " 'them',\n",
       " 'their',\n",
       " 'theirs',\n",
       " 'themselves',\n",
       " 'what',\n",
       " 'which',\n",
       " 'who',\n",
       " 'whom',\n",
       " 'this',\n",
       " 'that',\n",
       " \"that'll\",\n",
       " 'these',\n",
       " 'those',\n",
       " 'am',\n",
       " 'is',\n",
       " 'are',\n",
       " 'was',\n",
       " 'were',\n",
       " 'be',\n",
       " 'been',\n",
       " 'being',\n",
       " 'have',\n",
       " 'has',\n",
       " 'had',\n",
       " 'having',\n",
       " 'do',\n",
       " 'does',\n",
       " 'did',\n",
       " 'doing',\n",
       " 'a',\n",
       " 'an',\n",
       " 'the',\n",
       " 'and',\n",
       " 'but',\n",
       " 'if',\n",
       " 'or',\n",
       " 'because',\n",
       " 'as',\n",
       " 'until',\n",
       " 'while',\n",
       " 'of',\n",
       " 'at',\n",
       " 'by',\n",
       " 'for',\n",
       " 'with',\n",
       " 'about',\n",
       " 'against',\n",
       " 'between',\n",
       " 'into',\n",
       " 'through',\n",
       " 'during',\n",
       " 'before',\n",
       " 'after',\n",
       " 'above',\n",
       " 'below',\n",
       " 'to',\n",
       " 'from',\n",
       " 'up',\n",
       " 'down',\n",
       " 'in',\n",
       " 'out',\n",
       " 'on',\n",
       " 'off',\n",
       " 'over',\n",
       " 'under',\n",
       " 'again',\n",
       " 'further',\n",
       " 'then',\n",
       " 'once',\n",
       " 'here',\n",
       " 'there',\n",
       " 'when',\n",
       " 'where',\n",
       " 'why',\n",
       " 'how',\n",
       " 'all',\n",
       " 'any',\n",
       " 'both',\n",
       " 'each',\n",
       " 'few',\n",
       " 'more',\n",
       " 'most',\n",
       " 'other',\n",
       " 'some',\n",
       " 'such',\n",
       " 'no',\n",
       " 'nor',\n",
       " 'not',\n",
       " 'only',\n",
       " 'own',\n",
       " 'same',\n",
       " 'so',\n",
       " 'than',\n",
       " 'too',\n",
       " 'very',\n",
       " 's',\n",
       " 't',\n",
       " 'can',\n",
       " 'will',\n",
       " 'just',\n",
       " 'don',\n",
       " \"don't\",\n",
       " 'should',\n",
       " \"should've\",\n",
       " 'now',\n",
       " 'd',\n",
       " 'll',\n",
       " 'm',\n",
       " 'o',\n",
       " 're',\n",
       " 've',\n",
       " 'y',\n",
       " 'ain',\n",
       " 'aren',\n",
       " \"aren't\",\n",
       " 'couldn',\n",
       " \"couldn't\",\n",
       " 'didn',\n",
       " \"didn't\",\n",
       " 'doesn',\n",
       " \"doesn't\",\n",
       " 'hadn',\n",
       " \"hadn't\",\n",
       " 'hasn',\n",
       " \"hasn't\",\n",
       " 'haven',\n",
       " \"haven't\",\n",
       " 'isn',\n",
       " \"isn't\",\n",
       " 'ma',\n",
       " 'mightn',\n",
       " \"mightn't\",\n",
       " 'mustn',\n",
       " \"mustn't\",\n",
       " 'needn',\n",
       " \"needn't\",\n",
       " 'shan',\n",
       " \"shan't\",\n",
       " 'shouldn',\n",
       " \"shouldn't\",\n",
       " 'wasn',\n",
       " \"wasn't\",\n",
       " 'weren',\n",
       " \"weren't\",\n",
       " 'won',\n",
       " \"won't\",\n",
       " 'wouldn',\n",
       " \"wouldn't\",\n",
       " '!',\n",
       " '\"',\n",
       " '#',\n",
       " '$',\n",
       " '%',\n",
       " '&',\n",
       " \"'\",\n",
       " '(',\n",
       " ')',\n",
       " '*',\n",
       " '+',\n",
       " ',',\n",
       " '-',\n",
       " '.',\n",
       " '/',\n",
       " ':',\n",
       " ';',\n",
       " '<',\n",
       " '=',\n",
       " '>',\n",
       " '?',\n",
       " '@',\n",
       " '[',\n",
       " '\\\\',\n",
       " ']',\n",
       " '^',\n",
       " '_',\n",
       " '`',\n",
       " '{',\n",
       " '|',\n",
       " '}',\n",
       " '~']"
      ]
     },
     "execution_count": 188,
     "metadata": {},
     "output_type": "execute_result"
    }
   ],
   "source": [
    "stop"
   ]
  },
  {
   "cell_type": "code",
   "execution_count": 189,
   "metadata": {
    "collapsed": true
   },
   "outputs": [],
   "source": [
    "train_tokens = []\n",
    "for sentence in train.fullCaptions:\n",
    "    train_tokens.append([i for i in word_tokenize(sentence.lower()) if i not in stop])"
   ]
  },
  {
   "cell_type": "code",
   "execution_count": 190,
   "metadata": {
    "collapsed": true
   },
   "outputs": [],
   "source": [
    "words = [y for x in train_tokens for y in x]"
   ]
  },
  {
   "cell_type": "code",
   "execution_count": 191,
   "metadata": {
    "collapsed": true
   },
   "outputs": [],
   "source": [
    "all_words = nltk.FreqDist(w.lower() for w in words)\n",
    "word_features = list(all_words)"
   ]
  },
  {
   "cell_type": "code",
   "execution_count": 192,
   "metadata": {
    "collapsed": true
   },
   "outputs": [],
   "source": [
    "filename = 'dictionary_scrape.sav'\n",
    "pickle.dump(word_features, open(filename, 'wb'))"
   ]
  },
  {
   "cell_type": "code",
   "execution_count": 193,
   "metadata": {
    "collapsed": true
   },
   "outputs": [],
   "source": [
    "feature_set = []\n",
    "for i in range(len(train)):\n",
    "    feature_set.append((document_features(train.fullCaptions.iloc[i]), \n",
    "           train.sponsored.iloc[i]))"
   ]
  },
  {
   "cell_type": "code",
   "execution_count": 195,
   "metadata": {},
   "outputs": [],
   "source": [
    "classifier = nltk.NaiveBayesClassifier.train(feature_set)"
   ]
  },
  {
   "cell_type": "code",
   "execution_count": 196,
   "metadata": {},
   "outputs": [
    {
     "name": "stdout",
     "output_type": "stream",
     "text": [
      "Most Informative Features\n",
      "         contains(games) = True              yes : no     =     11.0 : 1.0\n",
      "        contains(gentle) = True               no : yes    =      8.3 : 1.0\n",
      "           contains(oil) = True               no : yes    =      8.3 : 1.0\n",
      "          contains(skin) = True               no : yes    =      8.1 : 1.0\n",
      "             contains(5) = True              yes : no     =      7.7 : 1.0\n",
      "          contains(rate) = True              yes : no     =      7.7 : 1.0\n",
      "      contains(thousand) = True              yes : no     =      7.0 : 1.0\n",
      "          contains(soap) = True               no : yes    =      7.0 : 1.0\n",
      "        contains(thanks) = True              yes : no     =      6.7 : 1.0\n",
      "        contains(custom) = True              yes : no     =      6.3 : 1.0\n"
     ]
    }
   ],
   "source": [
    "classifier.show_most_informative_features()"
   ]
  },
  {
   "cell_type": "code",
   "execution_count": 20,
   "metadata": {},
   "outputs": [
    {
     "data": {
      "text/plain": [
       "0.7"
      ]
     },
     "execution_count": 20,
     "metadata": {},
     "output_type": "execute_result"
    }
   ],
   "source": [
    "test_feature_set = []\n",
    "for i in range(len(test)):\n",
    "    test_feature_set.append((document_features(test.fullCaptions.iloc[i]), \n",
    "           test.sponsored.iloc[i]))\n",
    "    \n",
    "    \n",
    "nltk.classify.accuracy(classifier, test_feature_set)"
   ]
  },
  {
   "cell_type": "code",
   "execution_count": 22,
   "metadata": {},
   "outputs": [
    {
     "data": {
      "text/plain": [
       "'yes'"
      ]
     },
     "execution_count": 22,
     "metadata": {},
     "output_type": "execute_result"
    }
   ],
   "source": [
    "classifier.classify(document_features(test.fullCaptions.iloc[1]))"
   ]
  },
  {
   "cell_type": "code",
   "execution_count": 32,
   "metadata": {},
   "outputs": [
    {
     "data": {
      "text/plain": [
       "array([ 1.  ,  1.  ,  0.  ,  0.13,  0.  ,  1.  ,  1.  ,  0.  ,  1.  ,\n",
       "        1.  ,  1.  ,  1.  ,  1.  ,  1.  ,  1.  ,  1.  ,  1.  ,  1.  ,\n",
       "        1.  ,  1.  ])"
      ]
     },
     "execution_count": 32,
     "metadata": {},
     "output_type": "execute_result"
    }
   ],
   "source": [
    "np.array([classifier.prob_classify(document_features(cap)).prob('yes') for cap in test.fullCaptions]).round(2)"
   ]
  },
  {
   "cell_type": "code",
   "execution_count": 43,
   "metadata": {
    "collapsed": true
   },
   "outputs": [],
   "source": [
    "classes_test_set = [classifier.classify(document_features(cap)) for cap in test.fullCaptions]"
   ]
  },
  {
   "cell_type": "code",
   "execution_count": 51,
   "metadata": {
    "collapsed": true
   },
   "outputs": [],
   "source": [
    "cnf_matrix = confusion_matrix(test.sponsored, classes_test_set, labels = [\"yes\", \"no\"])"
   ]
  },
  {
   "cell_type": "code",
   "execution_count": 56,
   "metadata": {},
   "outputs": [
    {
     "name": "stdout",
     "output_type": "stream",
     "text": [
      "Confusion matrix, without normalization\n",
      "[[10  0]\n",
      " [ 6  4]]\n"
     ]
    },
    {
     "data": {
      "image/png": "[encoded data removed]",
      "text/plain": [
       "<matplotlib.figure.Figure at 0x1a1a918ba8>"
      ]
     },
     "metadata": {},
     "output_type": "display_data"
    }
   ],
   "source": [
    "plt.figure()\n",
    "plot_confusion_matrix(cnf_matrix, classes=[\"yes\", \"no\"])\n",
    "plt.show()"
   ]
  },
  {
   "cell_type": "markdown",
   "metadata": {
    "collapsed": true
   },
   "source": [
    "# tf-idf featurization"
   ]
  },
  {
   "cell_type": "code",
   "execution_count": 254,
   "metadata": {},
   "outputs": [
    {
     "name": "stdout",
     "output_type": "stream",
     "text": [
      "(100, 9903)\n",
      "(20, 9903)\n"
     ]
    }
   ],
   "source": [
    "# convert to feature vector\n",
    "feature_extraction = TfidfVectorizer(stop_words = 'english',token_pattern=u'(?ui)\\\\b\\\\w*[a-z]{3,}\\\\w*\\\\b', lowercase =True)\n",
    "X_train = feature_extraction.fit_transform(train.fullCaptions)\n",
    "X_test = feature_extraction.transform(test.fullCaptions)\n",
    "print(X_train.shape)\n",
    "print(X_test.shape)"
   ]
  },
  {
   "cell_type": "code",
   "execution_count": 255,
   "metadata": {},
   "outputs": [
    {
     "name": "stdout",
     "output_type": "stream",
     "text": [
      "405     no\n",
      "49      no\n",
      "181     no\n",
      "319     no\n",
      "183     no\n",
      "71      no\n",
      "117     no\n",
      "128     no\n",
      "135     no\n",
      "322     no\n",
      "120    yes\n",
      "314    yes\n",
      "248    yes\n",
      "173    yes\n",
      "85     yes\n",
      "134    yes\n",
      "161    yes\n",
      "102    yes\n",
      "95     yes\n",
      "110    yes\n",
      "Name: sponsored, dtype: object\n",
      "[0 0 0 0 0 0 0 0 0 0 1 1 1 1 1 1 1 1 1 1]\n"
     ]
    }
   ],
   "source": [
    "Y_train = train.sponsored\n",
    "Y_test = test.sponsored\n",
    "\n",
    "binarize = preprocessing.LabelBinarizer()\n",
    "y_train = np.ravel(binarize.fit_transform(Y_train))\n",
    "y_test = np.ravel(binarize.transform(Y_test))\n",
    "\n",
    "print(Y_test)\n",
    "print(y_test)"
   ]
  },
  {
   "cell_type": "markdown",
   "metadata": {},
   "source": [
    "## tf-idf SVM"
   ]
  },
  {
   "cell_type": "code",
   "execution_count": 256,
   "metadata": {},
   "outputs": [
    {
     "data": {
      "text/plain": [
       "array([[ 0.51380421,  0.48619579],\n",
       "       [ 0.51386891,  0.48613109],\n",
       "       [ 0.51380834,  0.48619166],\n",
       "       [ 0.51385724,  0.48614276],\n",
       "       [ 0.51381866,  0.48618134],\n",
       "       [ 0.51388387,  0.48611613],\n",
       "       [ 0.51380336,  0.48619664],\n",
       "       [ 0.51380741,  0.48619259],\n",
       "       [ 0.51386658,  0.48613342],\n",
       "       [ 0.51381702,  0.48618298],\n",
       "       [ 0.51389051,  0.48610949],\n",
       "       [ 0.51385157,  0.48614843],\n",
       "       [ 0.51387321,  0.48612679],\n",
       "       [ 0.51387808,  0.48612192],\n",
       "       [ 0.51389184,  0.48610816],\n",
       "       [ 0.51387743,  0.48612257],\n",
       "       [ 0.51387393,  0.48612607],\n",
       "       [ 0.51389675,  0.48610325],\n",
       "       [ 0.5138749 ,  0.4861251 ],\n",
       "       [ 0.51389392,  0.48610608]])"
      ]
     },
     "execution_count": 256,
     "metadata": {},
     "output_type": "execute_result"
    }
   ],
   "source": [
    "# train classifier\n",
    "clf = SVC(probability=True, kernel='rbf')\n",
    "clf.fit(X_train, y_train)\n",
    "\n",
    "# predict and evaluate predictions\n",
    "predictions_prob = clf.predict_proba(X_test)\n",
    "predictions_prob"
   ]
  },
  {
   "cell_type": "code",
   "execution_count": 257,
   "metadata": {},
   "outputs": [
    {
     "data": {
      "text/plain": [
       "array([0, 1, 0, 1, 0, 1, 0, 0, 1, 0, 1, 1, 1, 1, 1, 1, 1, 1, 1, 1])"
      ]
     },
     "execution_count": 257,
     "metadata": {},
     "output_type": "execute_result"
    }
   ],
   "source": [
    "# predict and evaluate predictions\n",
    "predictions = clf.predict(X_test)\n",
    "predictions"
   ]
  },
  {
   "cell_type": "code",
   "execution_count": 258,
   "metadata": {},
   "outputs": [
    {
     "data": {
      "text/plain": [
       "(array([0, 0, 0, 0, 0, 0, 0, 0, 0, 0, 1, 1, 1, 1, 1, 1, 1, 1, 1, 1]),\n",
       " array([0, 1, 0, 1, 0, 1, 0, 0, 1, 0, 1, 1, 1, 1, 1, 1, 1, 1, 1, 1]))"
      ]
     },
     "execution_count": 258,
     "metadata": {},
     "output_type": "execute_result"
    }
   ],
   "source": [
    "y_test, predictions"
   ]
  },
  {
   "cell_type": "code",
   "execution_count": 259,
   "metadata": {},
   "outputs": [
    {
     "data": {
      "text/plain": [
       "0.80000000000000004"
      ]
     },
     "execution_count": 259,
     "metadata": {},
     "output_type": "execute_result"
    }
   ],
   "source": [
    "roc_auc_score(y_test, predictions)"
   ]
  },
  {
   "cell_type": "code",
   "execution_count": 260,
   "metadata": {},
   "outputs": [
    {
     "data": {
      "text/plain": [
       "0.91000000000000003"
      ]
     },
     "execution_count": 260,
     "metadata": {},
     "output_type": "execute_result"
    }
   ],
   "source": [
    "roc_auc_score(y_test, predictions_prob[:,0])"
   ]
  },
  {
   "cell_type": "code",
   "execution_count": 261,
   "metadata": {},
   "outputs": [
    {
     "data": {
      "image/png": "[encoded data removed]",
      "text/plain": [
       "<matplotlib.figure.Figure at 0x10e053940>"
      ]
     },
     "metadata": {},
     "output_type": "display_data"
    }
   ],
   "source": [
    "# Compute fpr, tpr, thresholds and roc auc\n",
    "fpr, tpr, thresholds = roc_curve(y_test, predictions_prob[:,0])\n",
    "roc_auc = auc(fpr, tpr)\n",
    "\n",
    "# Plot ROC curve\n",
    "plt.plot(fpr, tpr, label='ROC curve (area = %0.3f)' % roc_auc)\n",
    "plt.plot([0, 1], [0, 1], 'k--')  # random predictions curve\n",
    "plt.xlim([-0.1, 1.1])\n",
    "plt.ylim([-0.1, 1.1])\n",
    "plt.xlabel('False Positive Rate or (1 - Specifity)')\n",
    "plt.ylabel('True Positive Rate or (Sensitivity)')\n",
    "plt.title('Receiver Operating Characteristic')\n",
    "plt.legend(loc=\"lower right\")\n",
    "plt.show()"
   ]
  },
  {
   "cell_type": "code",
   "execution_count": 262,
   "metadata": {},
   "outputs": [
    {
     "data": {
      "image/png": "[encoded data removed]",
      "text/plain": [
       "<matplotlib.figure.Figure at 0x1a20629f60>"
      ]
     },
     "metadata": {},
     "output_type": "display_data"
    }
   ],
   "source": [
    "cnf_matrix = confusion_matrix(y_test, predictions, labels = [1, 0])\n",
    "plt.figure()\n",
    "plot_confusion_matrix(cnf_matrix, classes=[1, 0])\n",
    "plt.show()"
   ]
  },
  {
   "cell_type": "markdown",
   "metadata": {},
   "source": [
    "## tf-idf Naive Bayes"
   ]
  },
  {
   "cell_type": "code",
   "execution_count": 263,
   "metadata": {},
   "outputs": [
    {
     "data": {
      "text/plain": [
       "GaussianNB(priors=None)"
      ]
     },
     "execution_count": 263,
     "metadata": {},
     "output_type": "execute_result"
    }
   ],
   "source": [
    "bernNB = BernoulliNB()\n",
    "gausNB = GaussianNB()\n",
    "\n",
    "bernNB.fit(X_train.toarray(), y_train)\n",
    "gausNB.fit(X_train.toarray(), y_train)"
   ]
  },
  {
   "cell_type": "code",
   "execution_count": 264,
   "metadata": {},
   "outputs": [
    {
     "name": "stdout",
     "output_type": "stream",
     "text": [
      "[  1.00000000e+00   1.00000000e+00   1.00000000e+00   1.00000000e+00\n",
      "   1.00000000e+00   1.00000000e+00   1.00000000e+00   1.00000000e+00\n",
      "   1.00000000e+00   1.00000000e+00   9.78401657e-01   1.00000000e+00\n",
      "   1.66521848e-61   1.00000000e+00   9.99877492e-01   4.11825295e-27\n",
      "   9.99999967e-01   2.50501065e-32   1.00000000e+00   2.30978840e-12] [0 0 0 0 0 0 0 0 0 0 0 0 1 0 0 1 0 1 0 1]\n"
     ]
    },
    {
     "data": {
      "text/plain": [
       "0.69999999999999996"
      ]
     },
     "execution_count": 264,
     "metadata": {},
     "output_type": "execute_result"
    }
   ],
   "source": [
    "predictions_prob_bNB = bernNB.predict_proba(X_test)\n",
    "predictions_bNB = bernNB.predict(X_test)\n",
    "print(predictions_prob_bNB[:,0], predictions_bNB)\n",
    "roc_auc_score(y_test, predictions_bNB)"
   ]
  },
  {
   "cell_type": "code",
   "execution_count": 265,
   "metadata": {},
   "outputs": [
    {
     "data": {
      "image/png": "[encoded data removed]",
      "text/plain": [
       "<matplotlib.figure.Figure at 0x10e3b7780>"
      ]
     },
     "metadata": {},
     "output_type": "display_data"
    }
   ],
   "source": [
    "# Compute fpr, tpr, thresholds and roc auc\n",
    "fpr, tpr, thresholds = roc_curve(y_test, predictions_prob_bNB[:,1])\n",
    "roc_auc = auc(fpr, tpr)\n",
    "\n",
    "# Plot ROC curve\n",
    "plt.plot(fpr, tpr, label='ROC curve (area = %0.3f)' % roc_auc)\n",
    "plt.plot([0, 1], [0, 1], 'k--')  # random predictions curve\n",
    "plt.xlim([-0.1, 1.1])\n",
    "plt.ylim([-0.1, 1.1])\n",
    "plt.xlabel('False Positive Rate or (1 - Specifity)')\n",
    "plt.ylabel('True Positive Rate or (Sensitivity)')\n",
    "plt.title('Receiver Operating Characteristic')\n",
    "plt.legend(loc=\"lower right\")\n",
    "plt.show()"
   ]
  },
  {
   "cell_type": "code",
   "execution_count": 266,
   "metadata": {},
   "outputs": [
    {
     "data": {
      "image/png": "[encoded data removed]",
      "text/plain": [
       "<matplotlib.figure.Figure at 0x1a20667080>"
      ]
     },
     "metadata": {},
     "output_type": "display_data"
    }
   ],
   "source": [
    "cnf_matrix = confusion_matrix(y_test, predictions_bNB, labels = [1, 0])\n",
    "plt.figure()\n",
    "plot_confusion_matrix(cnf_matrix, classes=[1, 0])\n",
    "plt.show()"
   ]
  },
  {
   "cell_type": "code",
   "execution_count": 267,
   "metadata": {},
   "outputs": [
    {
     "name": "stdout",
     "output_type": "stream",
     "text": [
      "[0 0 0 0 0 0 0 0 0 0 1 1 1 1 1 1 1 1 1 1] [ 1.  0.  1.  0.  1.  0.  1.  1.  1.  1.  0.  0.  0.  0.  0.  0.  0.  0.\n",
      "  0.  0.] [0 1 0 1 0 1 0 0 0 0 1 1 1 1 1 1 1 1 1 1]\n"
     ]
    },
    {
     "data": {
      "text/plain": [
       "0.84999999999999998"
      ]
     },
     "execution_count": 267,
     "metadata": {},
     "output_type": "execute_result"
    }
   ],
   "source": [
    "predictions_prob_gNB = gausNB.predict_proba(X_test.toarray())\n",
    "predictions_gNB = gausNB.predict(X_test.toarray())\n",
    "print(y_test,predictions_prob_gNB[:,0], predictions_gNB)\n",
    "roc_auc_score(y_test, predictions_gNB)"
   ]
  },
  {
   "cell_type": "code",
   "execution_count": 268,
   "metadata": {},
   "outputs": [
    {
     "data": {
      "image/png": "[encoded data removed]",
      "text/plain": [
       "<matplotlib.figure.Figure at 0x1a21546588>"
      ]
     },
     "metadata": {},
     "output_type": "display_data"
    }
   ],
   "source": [
    "# Compute fpr, tpr, thresholds and roc auc\n",
    "fpr, tpr, thresholds = roc_curve(y_test, predictions_prob_gNB[:,1])\n",
    "roc_auc = auc(fpr, tpr)\n",
    "\n",
    "# Plot ROC curve\n",
    "plt.plot(fpr, tpr, label='ROC curve (area = %0.3f)' % roc_auc)\n",
    "plt.plot([0, 1], [0, 1], 'k--')  # random predictions curve\n",
    "plt.xlim([-0.1, 1.1])\n",
    "plt.ylim([-0.1, 1.1])\n",
    "plt.xlabel('False Positive Rate or (1 - Specifity)')\n",
    "plt.ylabel('True Positive Rate or (Sensitivity)')\n",
    "plt.title('Receiver Operating Characteristic')\n",
    "plt.legend(loc=\"lower right\")\n",
    "plt.show()"
   ]
  },
  {
   "cell_type": "code",
   "execution_count": 269,
   "metadata": {},
   "outputs": [
    {
     "data": {
      "image/png": "[encoded data removed]",
      "text/plain": [
       "<matplotlib.figure.Figure at 0x10e50aef0>"
      ]
     },
     "metadata": {},
     "output_type": "display_data"
    }
   ],
   "source": [
    "cnf_matrix = confusion_matrix(y_test, predictions_gNB, labels = [1, 0])\n",
    "plt.figure()\n",
    "plot_confusion_matrix(cnf_matrix, classes=[1, 0])\n",
    "plt.show()"
   ]
  },
  {
   "cell_type": "code",
   "execution_count": 272,
   "metadata": {},
   "outputs": [],
   "source": [
    "def show_most_informative_features(vectorizer, clf, n=20):\n",
    "    feature_names = vectorizer.get_feature_names()\n",
    "    coefs_with_fns = sorted(zip(clf.coef_[0], feature_names))\n",
    "    top = zip(coefs_with_fns[:n], coefs_with_fns[:-(n + 1):-1])\n",
    "    for (coef_1, fn_1), (coef_2, fn_2) in top:\n",
    "        print(\"\\t%.4f\\t%-15s\\t\\t%.4f\\t%-15s\" % (coef_1, fn_1, coef_2, fn_2))"
   ]
  },
  {
   "cell_type": "code",
   "execution_count": 273,
   "metadata": {},
   "outputs": [
    {
     "name": "stdout",
     "output_type": "stream",
     "text": [
      "\t-3.9512\taaron          \t\t-0.0392\tlike           \n",
      "\t-3.9512\tabhilasha      \t\t-0.0594\tjust           \n",
      "\t-3.9512\tabiding        \t\t-0.0800\tvideo          \n",
      "\t-3.9512\tabilities      \t\t-0.0800\ttime           \n",
      "\t-3.9512\tabsorbing      \t\t-0.0800\tright          \n",
      "\t-3.9512\tabsorbs        \t\t-0.1446\tlet            \n",
      "\t-3.9512\taccentuating   \t\t-0.1446\tguys           \n",
      "\t-3.9512\taccept         \t\t-0.1671\tknow           \n",
      "\t-3.9512\taccession      \t\t-0.1671\tdon            \n",
      "\t-3.9512\taccessory      \t\t-0.1900\tway            \n",
      "\t-3.9512\tached          \t\t-0.1900\twant           \n",
      "\t-3.9512\tacid           \t\t-0.1900\treally         \n",
      "\t-3.9512\tacidic         \t\t-0.1900\tlittle         \n",
      "\t-3.9512\tactuate        \t\t-0.1900\tgood           \n",
      "\t-3.9512\tadalind        \t\t-0.2136\tmake           \n",
      "\t-3.9512\tadaline        \t\t-0.2136\tgoing          \n",
      "\t-3.9512\tadaptation     \t\t-0.2377\tpretty         \n",
      "\t-3.9512\taddiction      \t\t-0.2377\tgot            \n",
      "\t-3.9512\tadditionally   \t\t-0.2624\tthink          \n",
      "\t-3.9512\tadeline        \t\t-0.2624\tthing          \n"
     ]
    }
   ],
   "source": [
    "show_most_informative_features(feature_extraction, bernNB, n=20)"
   ]
  },
  {
   "cell_type": "code",
   "execution_count": null,
   "metadata": {
    "collapsed": true
   },
   "outputs": [],
   "source": []
  }
 ],
 "metadata": {
  "kernelspec": {
   "display_name": "Python 3",
   "language": "python",
   "name": "python3"
  },
  "language_info": {
   "codemirror_mode": {
    "name": "ipython",
    "version": 3
   },
   "file_extension": ".py",
   "mimetype": "text/x-python",
   "name": "python",
   "nbconvert_exporter": "python",
   "pygments_lexer": "ipython3",
   "version": "3.6.3"
  }
 },
 "nbformat": 4,
 "nbformat_minor": 2
}
