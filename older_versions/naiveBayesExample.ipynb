{
 "cells": [
  {
   "cell_type": "code",
   "execution_count": 1,
   "metadata": {
    "collapsed": true
   },
   "outputs": [],
   "source": [
    "import csv\n",
    "import nltk"
   ]
  },
  {
   "cell_type": "code",
   "execution_count": 9,
   "metadata": {},
   "outputs": [],
   "source": [
    "f = open('exp.csv')\n",
    "csv_f = csv.reader(f)"
   ]
  },
  {
   "cell_type": "code",
   "execution_count": 10,
   "metadata": {},
   "outputs": [
    {
     "name": "stdout",
     "output_type": "stream",
     "text": [
      "[({'size': 'small', 'color': 'blue', 'shape': 'oval'}, 'yes'), ({'size': 'small', 'color': 'green', 'shape': 'oval'}, 'yes'), ({'size': 'big', 'color': 'green', 'shape': 'oval'}, 'no'), ({'size': 'big', 'color': 'red', 'shape': 'square'}, 'no'), ({'size': 'small', 'color': 'red', 'shape': 'square'}, 'no'), ({'size': 'small', 'color': 'blue', 'shape': 'square'}, 'yes'), ({'size': 'big', 'color': 'red', 'shape': 'circle'}, 'yes')]\n"
     ]
    }
   ],
   "source": [
    "dataset = []\n",
    "\n",
    "for row in csv_f:\n",
    "    dataset.append(({'size': row[0], 'color': row[1], 'shape': row[2]}, row[3]))\n",
    "\n",
    "print (dataset)"
   ]
  },
  {
   "cell_type": "code",
   "execution_count": 11,
   "metadata": {
    "collapsed": true
   },
   "outputs": [],
   "source": [
    "classifier = nltk.NaiveBayesClassifier.train(dataset)"
   ]
  },
  {
   "cell_type": "code",
   "execution_count": 12,
   "metadata": {},
   "outputs": [
    {
     "name": "stdout",
     "output_type": "stream",
     "text": [
      "{'size': 'small', 'color': 'red', 'shape': 'oval'} yes\n"
     ]
    }
   ],
   "source": [
    "mydata = {'size':'small', 'color':'red', 'shape':'oval'}\n",
    "print (mydata, classifier.classify(mydata))"
   ]
  },
  {
   "cell_type": "code",
   "execution_count": null,
   "metadata": {
    "collapsed": true
   },
   "outputs": [],
   "source": []
  }
 ],
 "metadata": {
  "kernelspec": {
   "display_name": "Python 3",
   "language": "python",
   "name": "python3"
  },
  "language_info": {
   "codemirror_mode": {
    "name": "ipython",
    "version": 3
   },
   "file_extension": ".py",
   "mimetype": "text/x-python",
   "name": "python",
   "nbconvert_exporter": "python",
   "pygments_lexer": "ipython3",
   "version": "3.6.3"
  }
 },
 "nbformat": 4,
 "nbformat_minor": 2
}
