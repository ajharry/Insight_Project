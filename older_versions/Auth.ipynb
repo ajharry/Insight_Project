{
 "cells": [
  {
   "cell_type": "code",
   "execution_count": 12,
   "metadata": {},
   "outputs": [],
   "source": [
    "import google.oauth2.credentials\n",
    "import google_auth_oauthlib.flow\n",
    "\n",
    "# Use the client_secret.json file to identify the application requesting\n",
    "# authorization. The client ID (from that file) and access scopes are required.\n",
    "flow = google_auth_oauthlib.flow.Flow.from_client_secrets_file(\n",
    "    'client_secret_webApp.json',\n",
    "    scopes=['https://www.googleapis.com/auth/youtube.force-ssl'])\n",
    "\n",
    "# Indicate where the API server will redirect the user after the user completes\n",
    "# the authorization flow. The redirect URI is required.\n",
    "flow.redirect_uri = 'https://localhost:8080'\n",
    "\n",
    "# Generate URL for request to Google's OAuth 2.0 server.\n",
    "# Use kwargs to set optional request parameters.\n",
    "authorization_url, state = flow.authorization_url(\n",
    "    # Enable offline access so that you can refresh an access token without\n",
    "    # re-prompting the user for permission. Recommended for web server apps.\n",
    "    access_type='offline',\n",
    "    # Enable incremental authorization. Recommended as a best practice.\n",
    "    include_granted_scopes='true')"
   ]
  },
  {
   "cell_type": "code",
   "execution_count": 13,
   "metadata": {},
   "outputs": [
    {
     "data": {
      "text/plain": [
       "'https://accounts.google.com/o/oauth2/auth?response_type=code&client_id=780018333162-086aket7clh6ll4dh0eqieh1uegcv535.apps.googleusercontent.com&redirect_uri=https%3A%2F%2Flocalhost%3A8080&scope=https%3A%2F%2Fwww.googleapis.com%2Fauth%2Fyoutube.force-ssl&state=kKIDE1k6ZBjGIPCA9eDtxe8toiOYVQ&access_type=offline&include_granted_scopes=true'"
      ]
     },
     "execution_count": 13,
     "metadata": {},
     "output_type": "execute_result"
    }
   ],
   "source": [
    "authorization_url"
   ]
  },
  {
   "cell_type": "code",
   "execution_count": 14,
   "metadata": {
    "collapsed": true
   },
   "outputs": [],
   "source": [
    "#https://localhost:8080/?\n",
    "#state=kKIDE1k6ZBjGIPCA9eDtxe8toiOYVQ\n",
    "#&code=4%2FSVw2qlmXYwT5f0zP4QeCExeB1OMJA2G8k08z-g9SeeI\n",
    "#&scope=https%3A%2F%2Fwww.googleapis.com%2Fauth%2Fyoutube.force-ssl#"
   ]
  },
  {
   "cell_type": "code",
   "execution_count": 24,
   "metadata": {},
   "outputs": [],
   "source": [
    "import httplib2\n",
    "import os\n",
    "import sys\n",
    "\n",
    "from apiclient.discovery import build_from_document\n",
    "from apiclient.errors import HttpError\n",
    "from oauth2client.client import flow_from_clientsecrets\n",
    "from oauth2client.file import Storage\n",
    "from oauth2client.tools import argparser, run_flow\n"
   ]
  },
  {
   "cell_type": "code",
   "execution_count": 35,
   "metadata": {},
   "outputs": [],
   "source": [
    "CLIENT_SECRETS_FILE = \"client_secret_webApp.json\"\n",
    "\n",
    "# This OAuth 2.0 access scope allows for full read/write access to the\n",
    "# authenticated user's account and requires requests to use an SSL connection.\n",
    "YOUTUBE_READ_WRITE_SSL_SCOPE = \"https://www.googleapis.com/auth/youtube.force-ssl\"\n",
    "YOUTUBE_API_SERVICE_NAME = \"youtube\"\n",
    "YOUTUBE_API_VERSION = \"v3\"\n",
    "\n",
    "# Authorize the request and store authorization credentials.\n",
    "def get_authenticated_service():\n",
    "  flow = flow_from_clientsecrets(CLIENT_SECRETS_FILE, scope=YOUTUBE_READ_WRITE_SSL_SCOPE)\n",
    "\n",
    "  storage = Storage(\"%s-oauth2.json\" % 'downloadPermission.py') #sys.argv[0])\n",
    "  credentials = storage.get()\n",
    "\n",
    "  if credentials is None or credentials.invalid:\n",
    "    credentials = run_flow(flow, storage)\n",
    "\n",
    "  # Trusted testers can download this discovery document from the developers page\n",
    "  # and it should be in the same directory with the code.\n",
    "  with open(\"youtube-v3-api-captions.json\", \"r\") as f:\n",
    "    doc = f.read()\n",
    "    return build_from_document(doc, http=credentials.authorize(httplib2.Http()))\n"
   ]
  },
  {
   "cell_type": "code",
   "execution_count": 36,
   "metadata": {},
   "outputs": [
    {
     "data": {
      "text/plain": [
       "<googleapiclient.discovery.Resource at 0x10c350b38>"
      ]
     },
     "execution_count": 36,
     "metadata": {},
     "output_type": "execute_result"
    }
   ],
   "source": [
    "get_authenticated_service()"
   ]
  },
  {
   "cell_type": "code",
   "execution_count": null,
   "metadata": {
    "collapsed": true
   },
   "outputs": [],
   "source": []
  }
 ],
 "metadata": {
  "kernelspec": {
   "display_name": "Python 3",
   "language": "python",
   "name": "python3"
  },
  "language_info": {
   "codemirror_mode": {
    "name": "ipython",
    "version": 3
   },
   "file_extension": ".py",
   "mimetype": "text/x-python",
   "name": "python",
   "nbconvert_exporter": "python",
   "pygments_lexer": "ipython3",
   "version": "3.6.3"
  }
 },
 "nbformat": 4,
 "nbformat_minor": 2
}
