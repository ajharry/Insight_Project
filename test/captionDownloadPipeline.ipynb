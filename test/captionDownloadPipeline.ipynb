{
 "cells": [
  {
   "cell_type": "code",
   "execution_count": 30,
   "metadata": {
    "collapsed": true
   },
   "outputs": [],
   "source": [
    "import os\n",
    "from webvtt import WebVTT\n",
    "import pandas as pd\n",
    "\n",
    "def download_subs(video_url, lang=\"en\"):\n",
    "    cmd = [\n",
    "        \"youtube-dl\",\n",
    "        \"--skip-download\",\n",
    "        \"--write-auto-sub\",\n",
    "        \"--sub-format vtt\",\n",
    "        \"--sub-lang\",\n",
    "        lang,\n",
    "        video_url,\n",
    "        \"--output %(id)s.vtt\"\n",
    "    ]\n",
    "\n",
    "    os.system(\" \".join(cmd))"
   ]
  },
  {
   "cell_type": "code",
   "execution_count": 31,
   "metadata": {
    "collapsed": true
   },
   "outputs": [],
   "source": [
    "download_subs('https://www.youtube.com/watch?v=QDlbOrOO0_E')"
   ]
  },
  {
   "cell_type": "code",
   "execution_count": 18,
   "metadata": {
    "collapsed": true
   },
   "outputs": [],
   "source": [
    "text = []\n",
    "for caption in WebVTT().read('tempCaption.en.vtt'):\n",
    "    text.append(caption.text)\n",
    "    \n",
    "full_caption = ' '.join(text)"
   ]
  },
  {
   "cell_type": "code",
   "execution_count": 19,
   "metadata": {},
   "outputs": [
    {
     "data": {
      "text/plain": [
       "\"[Music] greetings my lovelies highest and we welcome back today's video responses back GrubHub growl hubba is a really convenient and easy way to order food to have it to live you can either use the online version or the app to order from over 50,000 different restaurants in 1,100 different cities and can categorize things by what you're in the mood for taste so today I have ordered quadruped Chinese American food so as many know I am chinese-american by heritage I was born in California and my parents are Chinese my heritage of course but they were born in Burma so I have a few layers of culture here but Chinese American food is something that we never will be ate growing up at all because my mom cooked at home and when we did go out or order takeout it wasn't Chinese food it was hamburgers pizzas things like that so you think we wrap up I ordered a bunch of things but I have heard of but have never really tasted before so I'm very curious to see which is it like okay let's go ahead and get started personal trash this I mean it is crab rangoon and the reason why I ordered this is because I did I said earlier my parents are from Burma and they are born in Rangoon which is the capital it's also known as young goal so the story closest was invented in Burma but I am skeptical because this contains cream cheese which is belonging to send in Burma so I suspect this was probably invented somewhere in the West let's kind of open seamless inset here indeed there is a cream cheese filling a little bit of possibly imitation crab although that could be real crab not sure nothing all mmm outside of nice and crispy it tastes like a deep-fried wall down inside it's creamy and rich look bit sweet I think there might be a little bit imitation crab in there but mostly it's just kind of this cleaned savory cream cheese with a crisp bones on outside to try it into thought hmm so the sauce is like a sweet and sour sauce it's sweet and a little bit tangy with vinegar I don't think it needs it at all the filling is already sweetened up and then dipping it in the soft and feels redundant yeah crab rangoon I think would make a great little party snack this I'm gonna have is this and this is the orange chicken cut a piece very very tender chicken smells good here we go that's actually really good this is it it doesn't taste like any Chinese food I've ever had but whatever it's delicious the batter has softened and has absorbed all of that sweet sauce this isn't spicy for me at all although I do see a few chili pieces in here at all it doesn't taste spicy to me and it's kind of let me get from an orange essence what I really like is how well with chicken is cooked it's really tender and moist and succulent and very very tasty so this item I have is best and this comes in a plastic container and this is movable got pan which is actually based on a Cantonese dish that has perhaps similar pronunciation and anyway I've ordered it just to see what's all about so here it is and it's a softy stir-fried dish Kuchma carrot cabbage mushrooms pieces of chicken and it's thickened with cornstarch shoots and water chestnuts and some snow peas I have a container right here mmm that smells good mm-hmm releases a little stir fry and it's a little bit of oyster sauce nice chicken flavor the meat is really tender and there's a little bit of Christmas to the vegetables which I appreciate and not exams overcook vegetables and the sauce goes really well with the right to kind of just coax everything my favorite part though I think often water just love how crunchy they are mm-hmm next time is it this looks very similar to the orange gin but this is General Tso's chicken apparently there was a general so but his connection to this dish is very loose or non-existent so this food has not served in the area that he lived and so again this probably had its origins in the west by gestalt looks very similar to the orange chicken it's a battered chicken that has a sauce the orange is omitted of course it is also served with rice with a garnish of broccoli this has a little bit of spice in it as well and let's give this a go mm-hmm mmm this is easy and that's pretty good as well very similar to use the orange chicken although not as sweet and of course there's no orange I did say it was spicy but I'm not really expecting in heat I'm in terms of flavor again you have that kind of rich berry fried sliver that comes with the deep-frying profit the sauce itself is so salty and definitely sweet it's also the distance shellacked foods kind of caramely soft mm-hmm well and the last item I have is this one and this great little Chinese American takeout container with the pagoda and thank you in oriental font here I have and Kooyong Wow that is not less expecting I can we all get also based on a Cantonese dish it's basically an egg omelet Tooting whatever kind of meat you like so I'd also add vegetable x2y let's cut it open and see what's inside and indeed there are some vegetables in there and that basically tastes just as I described it is extremel eggs with a little bit of carrot and peas in there it's pretty plain oh I know why it's funny English is soft I forgot about hey all right vii that that doesn't makes a difference it kind of ties everything together and then that bite actually tasted some onion so a little bit of caramelized onion scrambled egg carrots and peas and kind of soy sauce the converts duck flavored sauce surprisingly it's not bad thank you guys so much for joining me on my first order of Chinese American food you let me know in the comments below what your favorite chinese-american standbys are and yeah he thinks against the GrubHub for supporting me and my channel and do check out the description for a coupon link so you can save some money on your next purchase alright I hope you guys enjoyed that one I have two guys with something true the food with your friends and follow me on social media and I shall see you in my next video salute [Music]\""
      ]
     },
     "execution_count": 19,
     "metadata": {},
     "output_type": "execute_result"
    }
   ],
   "source": [
    "full_caption"
   ]
  },
  {
   "cell_type": "code",
   "execution_count": null,
   "metadata": {
    "collapsed": true
   },
   "outputs": [],
   "source": []
  }
 ],
 "metadata": {
  "kernelspec": {
   "display_name": "Python 3",
   "language": "python",
   "name": "python3"
  },
  "language_info": {
   "codemirror_mode": {
    "name": "ipython",
    "version": 3
   },
   "file_extension": ".py",
   "mimetype": "text/x-python",
   "name": "python",
   "nbconvert_exporter": "python",
   "pygments_lexer": "ipython3",
   "version": "3.6.3"
  }
 },
 "nbformat": 4,
 "nbformat_minor": 2
}
